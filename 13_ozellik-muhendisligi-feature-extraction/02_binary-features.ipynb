{
 "cells": [
  {
   "cell_type": "markdown",
   "id": "0cc99a0d",
   "metadata": {},
   "source": [
    "### Binary Features: Flag, Bool, True - False\n",
    "* Bu konuda genel kapsayıcı ve kabul gören net bir literatür yoktur. Çünkü özellik çıkarımı işi problemden probleme değişebilir. Özelinde yöntemden yönteme değişebilir. Burada karşımıza gelebilecek aday isimlendirmelerini (Flag, Bool, True - False) bu sebeple birlikte verilmiştir. Burada yapacak olduğumuz işlem 1 0 şeklinde var olan değişkenler üzerinden yeni değişkenler türetmektir. \n",
    "* DİKKAT: Daha önce label encoding ve binary encoding yapmıştık. Bu o değil. Var olan değişkenşn içinden böyle değişkenler türetmek yani yeni bir şeyler türetmek ile ilgileniyoruz, var olanları değiştirmekle değil."
   ]
  },
  {
   "cell_type": "code",
   "execution_count": 1,
   "id": "932fabff",
   "metadata": {},
   "outputs": [],
   "source": [
    "import numpy as np\n",
    "import pandas as pd\n",
    "import seaborn as sns\n",
    "from matplotlib import pyplot as plt\n",
    "# !pip install missingno\n",
    "import missingno as msno\n",
    "from datetime import date\n",
    "from sklearn.metrics import accuracy_score\n",
    "from sklearn.model_selection import train_test_split\n",
    "from sklearn.neighbors import LocalOutlierFactor\n",
    "from sklearn.preprocessing import MinMaxScaler, LabelEncoder, StandardScaler, RobustScaler\n",
    "\n",
    "pd.set_option('display.max_columns', None)\n",
    "pd.set_option('display.max_rows', None)\n",
    "pd.set_option('display.float_format', lambda x: '%.3f' % x)\n",
    "pd.set_option('display.width', 500)"
   ]
  },
  {
   "cell_type": "code",
   "execution_count": 2,
   "id": "0f1b94e7",
   "metadata": {},
   "outputs": [],
   "source": [
    "def load():\n",
    "    data = pd.read_csv(\"titanic.csv\")\n",
    "    return data"
   ]
  },
  {
   "cell_type": "code",
   "execution_count": 3,
   "id": "9676d255",
   "metadata": {
    "scrolled": true
   },
   "outputs": [
    {
     "data": {
      "text/html": [
       "<div>\n",
       "<style scoped>\n",
       "    .dataframe tbody tr th:only-of-type {\n",
       "        vertical-align: middle;\n",
       "    }\n",
       "\n",
       "    .dataframe tbody tr th {\n",
       "        vertical-align: top;\n",
       "    }\n",
       "\n",
       "    .dataframe thead th {\n",
       "        text-align: right;\n",
       "    }\n",
       "</style>\n",
       "<table border=\"1\" class=\"dataframe\">\n",
       "  <thead>\n",
       "    <tr style=\"text-align: right;\">\n",
       "      <th></th>\n",
       "      <th>PassengerId</th>\n",
       "      <th>Survived</th>\n",
       "      <th>Pclass</th>\n",
       "      <th>Name</th>\n",
       "      <th>Sex</th>\n",
       "      <th>Age</th>\n",
       "      <th>SibSp</th>\n",
       "      <th>Parch</th>\n",
       "      <th>Ticket</th>\n",
       "      <th>Fare</th>\n",
       "      <th>Cabin</th>\n",
       "      <th>Embarked</th>\n",
       "    </tr>\n",
       "  </thead>\n",
       "  <tbody>\n",
       "    <tr>\n",
       "      <th>0</th>\n",
       "      <td>1</td>\n",
       "      <td>0</td>\n",
       "      <td>3</td>\n",
       "      <td>Braund, Mr. Owen Harris</td>\n",
       "      <td>male</td>\n",
       "      <td>22.000</td>\n",
       "      <td>1</td>\n",
       "      <td>0</td>\n",
       "      <td>A/5 21171</td>\n",
       "      <td>7.250</td>\n",
       "      <td>NaN</td>\n",
       "      <td>S</td>\n",
       "    </tr>\n",
       "    <tr>\n",
       "      <th>1</th>\n",
       "      <td>2</td>\n",
       "      <td>1</td>\n",
       "      <td>1</td>\n",
       "      <td>Cumings, Mrs. John Bradley (Florence Briggs Th...</td>\n",
       "      <td>female</td>\n",
       "      <td>38.000</td>\n",
       "      <td>1</td>\n",
       "      <td>0</td>\n",
       "      <td>PC 17599</td>\n",
       "      <td>71.283</td>\n",
       "      <td>C85</td>\n",
       "      <td>C</td>\n",
       "    </tr>\n",
       "    <tr>\n",
       "      <th>2</th>\n",
       "      <td>3</td>\n",
       "      <td>1</td>\n",
       "      <td>3</td>\n",
       "      <td>Heikkinen, Miss. Laina</td>\n",
       "      <td>female</td>\n",
       "      <td>26.000</td>\n",
       "      <td>0</td>\n",
       "      <td>0</td>\n",
       "      <td>STON/O2. 3101282</td>\n",
       "      <td>7.925</td>\n",
       "      <td>NaN</td>\n",
       "      <td>S</td>\n",
       "    </tr>\n",
       "    <tr>\n",
       "      <th>3</th>\n",
       "      <td>4</td>\n",
       "      <td>1</td>\n",
       "      <td>1</td>\n",
       "      <td>Futrelle, Mrs. Jacques Heath (Lily May Peel)</td>\n",
       "      <td>female</td>\n",
       "      <td>35.000</td>\n",
       "      <td>1</td>\n",
       "      <td>0</td>\n",
       "      <td>113803</td>\n",
       "      <td>53.100</td>\n",
       "      <td>C123</td>\n",
       "      <td>S</td>\n",
       "    </tr>\n",
       "    <tr>\n",
       "      <th>4</th>\n",
       "      <td>5</td>\n",
       "      <td>0</td>\n",
       "      <td>3</td>\n",
       "      <td>Allen, Mr. William Henry</td>\n",
       "      <td>male</td>\n",
       "      <td>35.000</td>\n",
       "      <td>0</td>\n",
       "      <td>0</td>\n",
       "      <td>373450</td>\n",
       "      <td>8.050</td>\n",
       "      <td>NaN</td>\n",
       "      <td>S</td>\n",
       "    </tr>\n",
       "  </tbody>\n",
       "</table>\n",
       "</div>"
      ],
      "text/plain": [
       "   PassengerId  Survived  Pclass                                               Name     Sex    Age  SibSp  Parch            Ticket   Fare Cabin Embarked\n",
       "0            1         0       3                            Braund, Mr. Owen Harris    male 22.000      1      0         A/5 21171  7.250   NaN        S\n",
       "1            2         1       1  Cumings, Mrs. John Bradley (Florence Briggs Th...  female 38.000      1      0          PC 17599 71.283   C85        C\n",
       "2            3         1       3                             Heikkinen, Miss. Laina  female 26.000      0      0  STON/O2. 3101282  7.925   NaN        S\n",
       "3            4         1       1       Futrelle, Mrs. Jacques Heath (Lily May Peel)  female 35.000      1      0            113803 53.100  C123        S\n",
       "4            5         0       3                           Allen, Mr. William Henry    male 35.000      0      0            373450  8.050   NaN        S"
      ]
     },
     "execution_count": 3,
     "metadata": {},
     "output_type": "execute_result"
    }
   ],
   "source": [
    "df = load()\n",
    "df.head()"
   ]
  },
  {
   "cell_type": "markdown",
   "id": "f909f44a",
   "metadata": {},
   "source": [
    "* DİKKAT: Titanic veri setinde cabin değişkeni vardı. Burada bazı değerlerde NA bazı değerlerde de NA olmama durumu vardı. Şimdi öyle bir işlem yapmak istiyoruz ki NA gördüğümüz yerlere 1 NA olmayan yerlere 0 yazmak istiyoruz. Normalde bu cabin değişkeni çöp bir değişken çünkü çok fazla sayıda eksik değer var. Ama şunu merak ediyoruz:Bu kabinlere NA olanlara 1 NA olmayanlara 0 yazıp bir gözlemleyelim. Gerçekten anlamsız bir değişken mi, buna bakmak istiyoruz. Silmeli miyiz sorusunu araştırıyoruz."
   ]
  },
  {
   "cell_type": "code",
   "execution_count": 5,
   "id": "090de2ee",
   "metadata": {},
   "outputs": [
    {
     "data": {
      "text/html": [
       "<div>\n",
       "<style scoped>\n",
       "    .dataframe tbody tr th:only-of-type {\n",
       "        vertical-align: middle;\n",
       "    }\n",
       "\n",
       "    .dataframe tbody tr th {\n",
       "        vertical-align: top;\n",
       "    }\n",
       "\n",
       "    .dataframe thead th {\n",
       "        text-align: right;\n",
       "    }\n",
       "</style>\n",
       "<table border=\"1\" class=\"dataframe\">\n",
       "  <thead>\n",
       "    <tr style=\"text-align: right;\">\n",
       "      <th></th>\n",
       "      <th>PassengerId</th>\n",
       "      <th>Survived</th>\n",
       "      <th>Pclass</th>\n",
       "      <th>Name</th>\n",
       "      <th>Sex</th>\n",
       "      <th>Age</th>\n",
       "      <th>SibSp</th>\n",
       "      <th>Parch</th>\n",
       "      <th>Ticket</th>\n",
       "      <th>Fare</th>\n",
       "      <th>Cabin</th>\n",
       "      <th>Embarked</th>\n",
       "      <th>NEW_CABIN_BOOL</th>\n",
       "    </tr>\n",
       "  </thead>\n",
       "  <tbody>\n",
       "    <tr>\n",
       "      <th>0</th>\n",
       "      <td>1</td>\n",
       "      <td>0</td>\n",
       "      <td>3</td>\n",
       "      <td>Braund, Mr. Owen Harris</td>\n",
       "      <td>male</td>\n",
       "      <td>22.000</td>\n",
       "      <td>1</td>\n",
       "      <td>0</td>\n",
       "      <td>A/5 21171</td>\n",
       "      <td>7.250</td>\n",
       "      <td>NaN</td>\n",
       "      <td>S</td>\n",
       "      <td>0</td>\n",
       "    </tr>\n",
       "    <tr>\n",
       "      <th>1</th>\n",
       "      <td>2</td>\n",
       "      <td>1</td>\n",
       "      <td>1</td>\n",
       "      <td>Cumings, Mrs. John Bradley (Florence Briggs Th...</td>\n",
       "      <td>female</td>\n",
       "      <td>38.000</td>\n",
       "      <td>1</td>\n",
       "      <td>0</td>\n",
       "      <td>PC 17599</td>\n",
       "      <td>71.283</td>\n",
       "      <td>C85</td>\n",
       "      <td>C</td>\n",
       "      <td>1</td>\n",
       "    </tr>\n",
       "    <tr>\n",
       "      <th>2</th>\n",
       "      <td>3</td>\n",
       "      <td>1</td>\n",
       "      <td>3</td>\n",
       "      <td>Heikkinen, Miss. Laina</td>\n",
       "      <td>female</td>\n",
       "      <td>26.000</td>\n",
       "      <td>0</td>\n",
       "      <td>0</td>\n",
       "      <td>STON/O2. 3101282</td>\n",
       "      <td>7.925</td>\n",
       "      <td>NaN</td>\n",
       "      <td>S</td>\n",
       "      <td>0</td>\n",
       "    </tr>\n",
       "    <tr>\n",
       "      <th>3</th>\n",
       "      <td>4</td>\n",
       "      <td>1</td>\n",
       "      <td>1</td>\n",
       "      <td>Futrelle, Mrs. Jacques Heath (Lily May Peel)</td>\n",
       "      <td>female</td>\n",
       "      <td>35.000</td>\n",
       "      <td>1</td>\n",
       "      <td>0</td>\n",
       "      <td>113803</td>\n",
       "      <td>53.100</td>\n",
       "      <td>C123</td>\n",
       "      <td>S</td>\n",
       "      <td>1</td>\n",
       "    </tr>\n",
       "    <tr>\n",
       "      <th>4</th>\n",
       "      <td>5</td>\n",
       "      <td>0</td>\n",
       "      <td>3</td>\n",
       "      <td>Allen, Mr. William Henry</td>\n",
       "      <td>male</td>\n",
       "      <td>35.000</td>\n",
       "      <td>0</td>\n",
       "      <td>0</td>\n",
       "      <td>373450</td>\n",
       "      <td>8.050</td>\n",
       "      <td>NaN</td>\n",
       "      <td>S</td>\n",
       "      <td>0</td>\n",
       "    </tr>\n",
       "  </tbody>\n",
       "</table>\n",
       "</div>"
      ],
      "text/plain": [
       "   PassengerId  Survived  Pclass                                               Name     Sex    Age  SibSp  Parch            Ticket   Fare Cabin Embarked  NEW_CABIN_BOOL\n",
       "0            1         0       3                            Braund, Mr. Owen Harris    male 22.000      1      0         A/5 21171  7.250   NaN        S               0\n",
       "1            2         1       1  Cumings, Mrs. John Bradley (Florence Briggs Th...  female 38.000      1      0          PC 17599 71.283   C85        C               1\n",
       "2            3         1       3                             Heikkinen, Miss. Laina  female 26.000      0      0  STON/O2. 3101282  7.925   NaN        S               0\n",
       "3            4         1       1       Futrelle, Mrs. Jacques Heath (Lily May Peel)  female 35.000      1      0            113803 53.100  C123        S               1\n",
       "4            5         0       3                           Allen, Mr. William Henry    male 35.000      0      0            373450  8.050   NaN        S               0"
      ]
     },
     "execution_count": 5,
     "metadata": {},
     "output_type": "execute_result"
    }
   ],
   "source": [
    "df[\"NEW_CABIN_BOOL\"] = df[\"Cabin\"].notnull().astype('int')\n",
    "df.head()\n",
    "\n",
    "# Şu anda bizim için anlamsız olan değişken daha dikkate değer hale geldi ama hala emin değiliz."
   ]
  },
  {
   "cell_type": "code",
   "execution_count": 6,
   "id": "38e37d8d",
   "metadata": {},
   "outputs": [
    {
     "data": {
      "text/html": [
       "<div>\n",
       "<style scoped>\n",
       "    .dataframe tbody tr th:only-of-type {\n",
       "        vertical-align: middle;\n",
       "    }\n",
       "\n",
       "    .dataframe tbody tr th {\n",
       "        vertical-align: top;\n",
       "    }\n",
       "\n",
       "    .dataframe thead th {\n",
       "        text-align: right;\n",
       "    }\n",
       "</style>\n",
       "<table border=\"1\" class=\"dataframe\">\n",
       "  <thead>\n",
       "    <tr style=\"text-align: right;\">\n",
       "      <th></th>\n",
       "      <th>Survived</th>\n",
       "    </tr>\n",
       "    <tr>\n",
       "      <th>NEW_CABIN_BOOL</th>\n",
       "      <th></th>\n",
       "    </tr>\n",
       "  </thead>\n",
       "  <tbody>\n",
       "    <tr>\n",
       "      <th>0</th>\n",
       "      <td>0.300</td>\n",
       "    </tr>\n",
       "    <tr>\n",
       "      <th>1</th>\n",
       "      <td>0.667</td>\n",
       "    </tr>\n",
       "  </tbody>\n",
       "</table>\n",
       "</div>"
      ],
      "text/plain": [
       "                Survived\n",
       "NEW_CABIN_BOOL          \n",
       "0                  0.300\n",
       "1                  0.667"
      ]
     },
     "execution_count": 6,
     "metadata": {},
     "output_type": "execute_result"
    }
   ],
   "source": [
    "# Bağımlı değişkenimiz Survived'a göre ortalama alıp yeni oluşan değişkene göre groupby'a alalım.\n",
    "df.groupby(\"NEW_CABIN_BOOL\").agg({\"Survived\": \"mean\"})\n",
    "\n",
    "# DİKKAT: Kabini dolu olanların hayatta kalma olasılığı kabini dolu olmayanlara göre daha fazla.\n",
    "# Daha öncesinde çöp gibi gözüken bu değişken en kritik olabilecek değişkenlerden birisi haline geldi."
   ]
  },
  {
   "cell_type": "markdown",
   "id": "7957dee3",
   "metadata": {},
   "source": [
    "* Peki bu kayda değer bir ilişki midir?\n",
    "* DİKKAT: Kabin numarası 1 olan herkesi topladık ve hayatta kalıp kalmama durumunu görebilmek için ortalamasını aldık. Dolu kabinlerin hayatta kalması çok yüksek, boş olanların neden düşük? Şimdi bununla ilgilenmiyoruz ama şunu mmerak ediypruz: Ya acaba gerçekten bu bir ilişki taşıyor olabilir mi? \n",
    "* Buraya istatistiki bir test/oran testi yapalım. İki grubun oranını kıyaslama testi yapalım:"
   ]
  },
  {
   "cell_type": "code",
   "execution_count": 8,
   "id": "f92d1eb4",
   "metadata": {},
   "outputs": [
    {
     "name": "stdout",
     "output_type": "stream",
     "text": [
      "Collecting statsmodels\n",
      "  Using cached statsmodels-0.13.2-cp39-cp39-win_amd64.whl (9.1 MB)\n",
      "Collecting patsy>=0.5.2\n",
      "  Using cached patsy-0.5.2-py2.py3-none-any.whl (233 kB)\n",
      "Requirement already satisfied: packaging>=21.3 in c:\\users\\aleyy\\anaconda3\\lib\\site-packages (from statsmodels) (21.3)\n",
      "Requirement already satisfied: numpy>=1.17 in c:\\users\\aleyy\\anaconda3\\lib\\site-packages (from statsmodels) (1.22.3)\n",
      "Requirement already satisfied: pandas>=0.25 in c:\\users\\aleyy\\anaconda3\\lib\\site-packages (from statsmodels) (1.2.1)\n",
      "Requirement already satisfied: scipy>=1.3 in c:\\users\\aleyy\\anaconda3\\lib\\site-packages (from statsmodels) (1.8.1)\n",
      "Requirement already satisfied: pyparsing!=3.0.5,>=2.0.2 in c:\\users\\aleyy\\anaconda3\\lib\\site-packages (from packaging>=21.3->statsmodels) (3.0.4)\n",
      "Requirement already satisfied: pytz>=2017.3 in c:\\users\\aleyy\\anaconda3\\lib\\site-packages (from pandas>=0.25->statsmodels) (2022.1)\n",
      "Requirement already satisfied: python-dateutil>=2.7.3 in c:\\users\\aleyy\\anaconda3\\lib\\site-packages (from pandas>=0.25->statsmodels) (2.8.2)\n",
      "Requirement already satisfied: six in c:\\users\\aleyy\\anaconda3\\lib\\site-packages (from patsy>=0.5.2->statsmodels) (1.16.0)\n",
      "Installing collected packages: patsy, statsmodels\n",
      "Successfully installed patsy-0.5.2 statsmodels-0.13.2\n"
     ]
    }
   ],
   "source": [
    "# !pip install statsmodels"
   ]
  },
  {
   "cell_type": "code",
   "execution_count": 9,
   "id": "86488ee1",
   "metadata": {},
   "outputs": [
    {
     "name": "stdout",
     "output_type": "stream",
     "text": [
      "Test Stat = 9.4597, p-value = 0.0000\n"
     ]
    }
   ],
   "source": [
    "from statsmodels.stats.proportion import proportions_ztest\n",
    "test_stat, pvalue = proportions_ztest(count=[df.loc[df[\"NEW_CABIN_BOOL\"] == 1, \"Survived\"].sum(),\n",
    "                                             df.loc[df[\"NEW_CABIN_BOOL\"] == 0, \"Survived\"].sum()],\n",
    "\n",
    "                                      nobs=[df.loc[df[\"NEW_CABIN_BOOL\"] == 1, \"Survived\"].shape[0],\n",
    "                                            df.loc[df[\"NEW_CABIN_BOOL\"] == 0, \"Survived\"].shape[0]])\n",
    "print('Test Stat = %.4f, p-value = %.4f' % (test_stat, pvalue))\n",
    "\n",
    "# df.loc[df[\"NEW_CABIN_BOOL\"] == 1, \"Survived\"].sum()  --> Kabin numarası olan hayatta olan kaç kişi var\n",
    "# df.loc[df[\"NEW_CABIN_BOOL\"] == 0, \"Survived\"].sum()  --> Kabin numarası olmayan...\n",
    "# Oran testini yapabilmek için gerekli olan 2 parametre var birisi count birisi nobs(gözlem sayısı)"
   ]
  },
  {
   "cell_type": "markdown",
   "id": "80bc951e",
   "metadata": {},
   "source": [
    "* DİKKAT: Oldukça önemli bir noktadayız. Proportion z testinin hipotezi  şu şekildedir: p1 ve p2 oranları arasında fark yoktur der. p1 ve p2 oranları iki grubun hayatta kalıp kalmama durumunu ifade ediyor. İkisi arasında fark yoktur diyen H0 Hipotezi p-value değeri 0.05' ten küçük olduğundan dolayı reddedilir. Yani aralarında istatistiki olarak anlamlı bir farklılık var gibi gözüküyor.\n",
    "* İKİ KERE DİKKAT: Çok değişkenli etkiyi bilmiyoruz. İki tane değişkenin sanki sadece ikisi birlikte oluşmuş gibi değerlendirerek inceledik. Ama bu yapılar tek başına oluşmadı ki. Yani Survived değişkeninin ortaya çıkışı burada ele aldığımız new_cabin_bool değişkeni ile ortaya çıkmadı ki ama çıkmış olabilir. Şu anki kanaatimiz de çıkmış olabileceğine yönelik olsa da hala bilemiyoruz. Dolayısıyla çok değişkenli etkiyi bbilmiyoruz. Bu değişkenleri birlikte modele soktuğumuzda bu çok değişkenli etkiyi gözlemleme imkanımız olacak. O durumda bu değişkenin (new_cabin_bool ) anlamlı olup olmadığını daha iyi değerlendiriyor olacağız. Ama şu anda ilerlemek ya da bu değişkeni kabul edip etmemek için fikir edinmeye çalıştığımızda yeterli ispatı/delili bulduk. Bu değşken artık cepte. Ama tekrar söylüyoruz çok değişkenli etkiyi bilmiyoruz dolayısıyla bu bizimiçin çok önemli bir değişkendir genellemesini yapamıyoruz. Göz önünde bulunduruyoruz sadece, kayda değerdir diyoruz.\n",
    "* Bu veri setinde SibSp ve parch adında iki değişkenimiz var. Bunlar yakın ve uzak olabilecek akrabalıkları ifade ediyor. Yani kişinin gemideki akrabalıklarını ifade eden iki tane değişken var. Bunların toplamı eğer sıfırdan büyükse yeni bir değişken oluştur diyoruz. Demek ki bu kişi yalnız değilmiş (NO) şeklinde NEW_IS_ALONE değişkenine yeni bir değer ata diyoruz. \n",
    "* DİKKAT: Normalde iki değişken var. ikisini bir araya getirdik, bir de koşul koyduk. Bu koşula göre yeni bir değişken oluşturduk. Eğer sıfırdan büyükse yalnız değil, sıfır ise yalnız diyoruz. Olası featureları türetmeye çalışıyoruz. Yorumumuz belki kişi gemide tek olup olmamasına göre hayatta kalma refleksleri şekillenmiştir şeklinde oluyor. Annesi babası çocukları ya da daha uzaktan akrabaları olmama durumu onun gemideki ya da hayatta kalma sğrecindeki çabasını etkilemiş olabilir. Neticesinde bir sonuç çıkmayabilir de, değişken üretmenin güzel noktası olası tüm özellikleri üretmeye çalışmaktır. "
   ]
  },
  {
   "cell_type": "code",
   "execution_count": 11,
   "id": "921a412b",
   "metadata": {},
   "outputs": [],
   "source": [
    "# Akrabalıkları içeren değişkenle yapalım aynı işlemleri:\n",
    "df.loc[((df['SibSp'] + df['Parch']) > 0), \"NEW_IS_ALONE\"] = \"NO\""
   ]
  },
  {
   "cell_type": "code",
   "execution_count": 12,
   "id": "aef8c3f1",
   "metadata": {},
   "outputs": [],
   "source": [
    "df.loc[((df['SibSp'] + df['Parch']) == 0), \"NEW_IS_ALONE\"] = \"YES\""
   ]
  },
  {
   "cell_type": "code",
   "execution_count": 13,
   "id": "6c45ac5b",
   "metadata": {},
   "outputs": [
    {
     "data": {
      "text/html": [
       "<div>\n",
       "<style scoped>\n",
       "    .dataframe tbody tr th:only-of-type {\n",
       "        vertical-align: middle;\n",
       "    }\n",
       "\n",
       "    .dataframe tbody tr th {\n",
       "        vertical-align: top;\n",
       "    }\n",
       "\n",
       "    .dataframe thead th {\n",
       "        text-align: right;\n",
       "    }\n",
       "</style>\n",
       "<table border=\"1\" class=\"dataframe\">\n",
       "  <thead>\n",
       "    <tr style=\"text-align: right;\">\n",
       "      <th></th>\n",
       "      <th>Survived</th>\n",
       "    </tr>\n",
       "    <tr>\n",
       "      <th>NEW_IS_ALONE</th>\n",
       "      <th></th>\n",
       "    </tr>\n",
       "  </thead>\n",
       "  <tbody>\n",
       "    <tr>\n",
       "      <th>NO</th>\n",
       "      <td>0.506</td>\n",
       "    </tr>\n",
       "    <tr>\n",
       "      <th>YES</th>\n",
       "      <td>0.304</td>\n",
       "    </tr>\n",
       "  </tbody>\n",
       "</table>\n",
       "</div>"
      ],
      "text/plain": [
       "              Survived\n",
       "NEW_IS_ALONE          \n",
       "NO               0.506\n",
       "YES              0.304"
      ]
     },
     "execution_count": 13,
     "metadata": {},
     "output_type": "execute_result"
    }
   ],
   "source": [
    "df.groupby(\"NEW_IS_ALONE\").agg({\"Survived\": \"mean\"})\n",
    "\n",
    "# Aralarında bir fark var gibi gözüküyor: \n",
    "# Bu etki şans eseri ortaya çıkmış olabilir, çok değişkenli başka etkiler söz konusu olabilir.\n",
    "# Sadece ucundan fikir edinmek için baktığımızda fark var gibi gözüküyor."
   ]
  },
  {
   "cell_type": "code",
   "execution_count": 14,
   "id": "101eeac2",
   "metadata": {},
   "outputs": [],
   "source": [
    "# Hipotez testi yapalımi proportional testimizi buraya da getiriyoruz:\n",
    "test_stat, pvalue = proportions_ztest(count=[df.loc[df[\"NEW_IS_ALONE\"] == \"YES\", \"Survived\"].sum(),\n",
    "                                             df.loc[df[\"NEW_IS_ALONE\"] == \"NO\", \"Survived\"].sum()],\n",
    "\n",
    "                                      nobs=[df.loc[df[\"NEW_IS_ALONE\"] == \"YES\", \"Survived\"].shape[0],\n",
    "                                            df.loc[df[\"NEW_IS_ALONE\"] == \"NO\", \"Survived\"].shape[0]])\n"
   ]
  },
  {
   "cell_type": "code",
   "execution_count": 15,
   "id": "b407d953",
   "metadata": {},
   "outputs": [
    {
     "name": "stdout",
     "output_type": "stream",
     "text": [
      "Test Stat = -6.0704, p-value = 0.0000\n"
     ]
    }
   ],
   "source": [
    "print('Test Stat = %.4f, p-value = %.4f' % (test_stat, pvalue))"
   ]
  },
  {
   "cell_type": "code",
   "execution_count": 17,
   "id": "f83d6205",
   "metadata": {},
   "outputs": [],
   "source": [
    "# Anlamlı bir farklılık var H0 Hipotezi reddedilir. Modelleme bölümünde bu etki daha net gözüküyor olacaktır."
   ]
  },
  {
   "cell_type": "code",
   "execution_count": null,
   "id": "e62fe18a",
   "metadata": {},
   "outputs": [],
   "source": []
  }
 ],
 "metadata": {
  "kernelspec": {
   "display_name": "Python 3 (ipykernel)",
   "language": "python",
   "name": "python3"
  },
  "language_info": {
   "codemirror_mode": {
    "name": "ipython",
    "version": 3
   },
   "file_extension": ".py",
   "mimetype": "text/x-python",
   "name": "python",
   "nbconvert_exporter": "python",
   "pygments_lexer": "ipython3",
   "version": "3.9.7"
  }
 },
 "nbformat": 4,
 "nbformat_minor": 5
}
