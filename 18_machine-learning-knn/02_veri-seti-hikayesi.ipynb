{
 "cells": [
  {
   "cell_type": "markdown",
   "id": "c1e6a358",
   "metadata": {},
   "source": [
    "### Keşifçi Veri Analizi ( EDA )"
   ]
  },
  {
   "cell_type": "code",
   "execution_count": 15,
   "id": "cd728380",
   "metadata": {},
   "outputs": [],
   "source": [
    "################################################\n",
    "# KNN\n",
    "################################################\n",
    "\n",
    "# 1. Exploratory Data Analysis\n",
    "# 2. Data Preprocessing & Feature Engineering\n",
    "# 3. Modeling & Prediction\n",
    "# 4. Model Evaluation\n",
    "# 5. Hyperparameter Optimization\n",
    "# 6. Final Model\n",
    "\n",
    "import pandas as pd\n",
    "from sklearn.metrics import classification_report, roc_auc_score\n",
    "from sklearn.model_selection import GridSearchCV, cross_validate\n",
    "from sklearn.neighbors import KNeighborsClassifier\n",
    "from sklearn.preprocessing import StandardScaler\n",
    "pd.set_option('display.max_columns', None)\n",
    "pd.set_option('display.width', 500)"
   ]
  },
  {
   "cell_type": "code",
   "execution_count": 16,
   "id": "f76a5a79",
   "metadata": {},
   "outputs": [
    {
     "data": {
      "text/html": [
       "<div>\n",
       "<style scoped>\n",
       "    .dataframe tbody tr th:only-of-type {\n",
       "        vertical-align: middle;\n",
       "    }\n",
       "\n",
       "    .dataframe tbody tr th {\n",
       "        vertical-align: top;\n",
       "    }\n",
       "\n",
       "    .dataframe thead th {\n",
       "        text-align: right;\n",
       "    }\n",
       "</style>\n",
       "<table border=\"1\" class=\"dataframe\">\n",
       "  <thead>\n",
       "    <tr style=\"text-align: right;\">\n",
       "      <th></th>\n",
       "      <th>Pregnancies</th>\n",
       "      <th>Glucose</th>\n",
       "      <th>BloodPressure</th>\n",
       "      <th>SkinThickness</th>\n",
       "      <th>Insulin</th>\n",
       "      <th>BMI</th>\n",
       "      <th>DiabetesPedigreeFunction</th>\n",
       "      <th>Age</th>\n",
       "      <th>Outcome</th>\n",
       "    </tr>\n",
       "  </thead>\n",
       "  <tbody>\n",
       "    <tr>\n",
       "      <th>0</th>\n",
       "      <td>6</td>\n",
       "      <td>148</td>\n",
       "      <td>72</td>\n",
       "      <td>35</td>\n",
       "      <td>0</td>\n",
       "      <td>33.6</td>\n",
       "      <td>0.627</td>\n",
       "      <td>50</td>\n",
       "      <td>1</td>\n",
       "    </tr>\n",
       "    <tr>\n",
       "      <th>1</th>\n",
       "      <td>1</td>\n",
       "      <td>85</td>\n",
       "      <td>66</td>\n",
       "      <td>29</td>\n",
       "      <td>0</td>\n",
       "      <td>26.6</td>\n",
       "      <td>0.351</td>\n",
       "      <td>31</td>\n",
       "      <td>0</td>\n",
       "    </tr>\n",
       "    <tr>\n",
       "      <th>2</th>\n",
       "      <td>8</td>\n",
       "      <td>183</td>\n",
       "      <td>64</td>\n",
       "      <td>0</td>\n",
       "      <td>0</td>\n",
       "      <td>23.3</td>\n",
       "      <td>0.672</td>\n",
       "      <td>32</td>\n",
       "      <td>1</td>\n",
       "    </tr>\n",
       "    <tr>\n",
       "      <th>3</th>\n",
       "      <td>1</td>\n",
       "      <td>89</td>\n",
       "      <td>66</td>\n",
       "      <td>23</td>\n",
       "      <td>94</td>\n",
       "      <td>28.1</td>\n",
       "      <td>0.167</td>\n",
       "      <td>21</td>\n",
       "      <td>0</td>\n",
       "    </tr>\n",
       "    <tr>\n",
       "      <th>4</th>\n",
       "      <td>0</td>\n",
       "      <td>137</td>\n",
       "      <td>40</td>\n",
       "      <td>35</td>\n",
       "      <td>168</td>\n",
       "      <td>43.1</td>\n",
       "      <td>2.288</td>\n",
       "      <td>33</td>\n",
       "      <td>1</td>\n",
       "    </tr>\n",
       "  </tbody>\n",
       "</table>\n",
       "</div>"
      ],
      "text/plain": [
       "   Pregnancies  Glucose  BloodPressure  SkinThickness  Insulin   BMI  DiabetesPedigreeFunction  Age  Outcome\n",
       "0            6      148             72             35        0  33.6                     0.627   50        1\n",
       "1            1       85             66             29        0  26.6                     0.351   31        0\n",
       "2            8      183             64              0        0  23.3                     0.672   32        1\n",
       "3            1       89             66             23       94  28.1                     0.167   21        0\n",
       "4            0      137             40             35      168  43.1                     2.288   33        1"
      ]
     },
     "execution_count": 16,
     "metadata": {},
     "output_type": "execute_result"
    }
   ],
   "source": [
    "################################################\n",
    "# 1. Exploratory Data Analysis\n",
    "################################################\n",
    "\n",
    "df = pd.read_csv(\"datasets/diabetes.csv\")\n",
    "\n",
    "df.head()"
   ]
  },
  {
   "cell_type": "code",
   "execution_count": 17,
   "id": "67527368",
   "metadata": {},
   "outputs": [
    {
     "data": {
      "text/plain": [
       "(768, 9)"
      ]
     },
     "execution_count": 17,
     "metadata": {},
     "output_type": "execute_result"
    }
   ],
   "source": [
    "df.shape"
   ]
  },
  {
   "cell_type": "code",
   "execution_count": 18,
   "id": "31c599be",
   "metadata": {},
   "outputs": [
    {
     "data": {
      "text/html": [
       "<div>\n",
       "<style scoped>\n",
       "    .dataframe tbody tr th:only-of-type {\n",
       "        vertical-align: middle;\n",
       "    }\n",
       "\n",
       "    .dataframe tbody tr th {\n",
       "        vertical-align: top;\n",
       "    }\n",
       "\n",
       "    .dataframe thead th {\n",
       "        text-align: right;\n",
       "    }\n",
       "</style>\n",
       "<table border=\"1\" class=\"dataframe\">\n",
       "  <thead>\n",
       "    <tr style=\"text-align: right;\">\n",
       "      <th></th>\n",
       "      <th>count</th>\n",
       "      <th>mean</th>\n",
       "      <th>std</th>\n",
       "      <th>min</th>\n",
       "      <th>25%</th>\n",
       "      <th>50%</th>\n",
       "      <th>75%</th>\n",
       "      <th>max</th>\n",
       "    </tr>\n",
       "  </thead>\n",
       "  <tbody>\n",
       "    <tr>\n",
       "      <th>Pregnancies</th>\n",
       "      <td>768.0</td>\n",
       "      <td>3.845052</td>\n",
       "      <td>3.369578</td>\n",
       "      <td>0.000</td>\n",
       "      <td>1.00000</td>\n",
       "      <td>3.0000</td>\n",
       "      <td>6.00000</td>\n",
       "      <td>17.00</td>\n",
       "    </tr>\n",
       "    <tr>\n",
       "      <th>Glucose</th>\n",
       "      <td>768.0</td>\n",
       "      <td>120.894531</td>\n",
       "      <td>31.972618</td>\n",
       "      <td>0.000</td>\n",
       "      <td>99.00000</td>\n",
       "      <td>117.0000</td>\n",
       "      <td>140.25000</td>\n",
       "      <td>199.00</td>\n",
       "    </tr>\n",
       "    <tr>\n",
       "      <th>BloodPressure</th>\n",
       "      <td>768.0</td>\n",
       "      <td>69.105469</td>\n",
       "      <td>19.355807</td>\n",
       "      <td>0.000</td>\n",
       "      <td>62.00000</td>\n",
       "      <td>72.0000</td>\n",
       "      <td>80.00000</td>\n",
       "      <td>122.00</td>\n",
       "    </tr>\n",
       "    <tr>\n",
       "      <th>SkinThickness</th>\n",
       "      <td>768.0</td>\n",
       "      <td>20.536458</td>\n",
       "      <td>15.952218</td>\n",
       "      <td>0.000</td>\n",
       "      <td>0.00000</td>\n",
       "      <td>23.0000</td>\n",
       "      <td>32.00000</td>\n",
       "      <td>99.00</td>\n",
       "    </tr>\n",
       "    <tr>\n",
       "      <th>Insulin</th>\n",
       "      <td>768.0</td>\n",
       "      <td>79.799479</td>\n",
       "      <td>115.244002</td>\n",
       "      <td>0.000</td>\n",
       "      <td>0.00000</td>\n",
       "      <td>30.5000</td>\n",
       "      <td>127.25000</td>\n",
       "      <td>846.00</td>\n",
       "    </tr>\n",
       "    <tr>\n",
       "      <th>BMI</th>\n",
       "      <td>768.0</td>\n",
       "      <td>31.992578</td>\n",
       "      <td>7.884160</td>\n",
       "      <td>0.000</td>\n",
       "      <td>27.30000</td>\n",
       "      <td>32.0000</td>\n",
       "      <td>36.60000</td>\n",
       "      <td>67.10</td>\n",
       "    </tr>\n",
       "    <tr>\n",
       "      <th>DiabetesPedigreeFunction</th>\n",
       "      <td>768.0</td>\n",
       "      <td>0.471876</td>\n",
       "      <td>0.331329</td>\n",
       "      <td>0.078</td>\n",
       "      <td>0.24375</td>\n",
       "      <td>0.3725</td>\n",
       "      <td>0.62625</td>\n",
       "      <td>2.42</td>\n",
       "    </tr>\n",
       "    <tr>\n",
       "      <th>Age</th>\n",
       "      <td>768.0</td>\n",
       "      <td>33.240885</td>\n",
       "      <td>11.760232</td>\n",
       "      <td>21.000</td>\n",
       "      <td>24.00000</td>\n",
       "      <td>29.0000</td>\n",
       "      <td>41.00000</td>\n",
       "      <td>81.00</td>\n",
       "    </tr>\n",
       "    <tr>\n",
       "      <th>Outcome</th>\n",
       "      <td>768.0</td>\n",
       "      <td>0.348958</td>\n",
       "      <td>0.476951</td>\n",
       "      <td>0.000</td>\n",
       "      <td>0.00000</td>\n",
       "      <td>0.0000</td>\n",
       "      <td>1.00000</td>\n",
       "      <td>1.00</td>\n",
       "    </tr>\n",
       "  </tbody>\n",
       "</table>\n",
       "</div>"
      ],
      "text/plain": [
       "                          count        mean         std     min       25%       50%        75%     max\n",
       "Pregnancies               768.0    3.845052    3.369578   0.000   1.00000    3.0000    6.00000   17.00\n",
       "Glucose                   768.0  120.894531   31.972618   0.000  99.00000  117.0000  140.25000  199.00\n",
       "BloodPressure             768.0   69.105469   19.355807   0.000  62.00000   72.0000   80.00000  122.00\n",
       "SkinThickness             768.0   20.536458   15.952218   0.000   0.00000   23.0000   32.00000   99.00\n",
       "Insulin                   768.0   79.799479  115.244002   0.000   0.00000   30.5000  127.25000  846.00\n",
       "BMI                       768.0   31.992578    7.884160   0.000  27.30000   32.0000   36.60000   67.10\n",
       "DiabetesPedigreeFunction  768.0    0.471876    0.331329   0.078   0.24375    0.3725    0.62625    2.42\n",
       "Age                       768.0   33.240885   11.760232  21.000  24.00000   29.0000   41.00000   81.00\n",
       "Outcome                   768.0    0.348958    0.476951   0.000   0.00000    0.0000    1.00000    1.00"
      ]
     },
     "execution_count": 18,
     "metadata": {},
     "output_type": "execute_result"
    }
   ],
   "source": [
    "df.describe().T"
   ]
  },
  {
   "cell_type": "code",
   "execution_count": 19,
   "id": "6465ed00",
   "metadata": {},
   "outputs": [
    {
     "data": {
      "text/plain": [
       "0    500\n",
       "1    268\n",
       "Name: Outcome, dtype: int64"
      ]
     },
     "execution_count": 19,
     "metadata": {},
     "output_type": "execute_result"
    }
   ],
   "source": [
    "df[\"Outcome\"].value_counts()"
   ]
  },
  {
   "cell_type": "markdown",
   "id": "9811fa95",
   "metadata": {},
   "source": [
    "### Veri Ön İşleme ( Data Pre-Processing )\n",
    "\n",
    "* Bu problemin özelinde bir standartlaştırma işlemi yapmamız gerekiyor. Kullanacak olduğumuz knn yöntemi uzaklık temelli bir yöntemdir. Uzaklık temelli yöntemlerde ve gradient descent temelli yöntemlerde değişkenlerin standart olması elde edilecek sonuçların ya daha hızlı ya da daha doğru olmasını diğer ifadesiyle daha başarılı olunmasını sağlayacaktır. Bu sebeple elimizdeki bağımsız değişkenleri standartlaştırma işlemine sokuyor olacağız. "
   ]
  },
  {
   "cell_type": "code",
   "execution_count": 20,
   "id": "26443ada",
   "metadata": {},
   "outputs": [],
   "source": [
    "################################################\n",
    "# 2. Data Preprocessing & Feature Engineering\n",
    "################################################\n",
    "\n",
    "y = df[\"Outcome\"]\n",
    "X = df.drop([\"Outcome\"], axis=1)\n",
    "\n",
    "X_scaled = StandardScaler().fit_transform(X)\n",
    "X = pd.DataFrame(X_scaled, columns=X.columns)"
   ]
  },
  {
   "cell_type": "code",
   "execution_count": 21,
   "id": "c224f80b",
   "metadata": {},
   "outputs": [
    {
     "data": {
      "text/plain": [
       "0      1\n",
       "1      0\n",
       "2      1\n",
       "3      0\n",
       "4      1\n",
       "      ..\n",
       "763    0\n",
       "764    0\n",
       "765    0\n",
       "766    1\n",
       "767    0\n",
       "Name: Outcome, Length: 768, dtype: int64"
      ]
     },
     "execution_count": 21,
     "metadata": {},
     "output_type": "execute_result"
    }
   ],
   "source": [
    "# Bağımlı değişkenimiz:\n",
    "y"
   ]
  },
  {
   "cell_type": "code",
   "execution_count": 22,
   "id": "18125a53",
   "metadata": {},
   "outputs": [
    {
     "data": {
      "text/html": [
       "<div>\n",
       "<style scoped>\n",
       "    .dataframe tbody tr th:only-of-type {\n",
       "        vertical-align: middle;\n",
       "    }\n",
       "\n",
       "    .dataframe tbody tr th {\n",
       "        vertical-align: top;\n",
       "    }\n",
       "\n",
       "    .dataframe thead th {\n",
       "        text-align: right;\n",
       "    }\n",
       "</style>\n",
       "<table border=\"1\" class=\"dataframe\">\n",
       "  <thead>\n",
       "    <tr style=\"text-align: right;\">\n",
       "      <th></th>\n",
       "      <th>Pregnancies</th>\n",
       "      <th>Glucose</th>\n",
       "      <th>BloodPressure</th>\n",
       "      <th>SkinThickness</th>\n",
       "      <th>Insulin</th>\n",
       "      <th>BMI</th>\n",
       "      <th>DiabetesPedigreeFunction</th>\n",
       "      <th>Age</th>\n",
       "    </tr>\n",
       "  </thead>\n",
       "  <tbody>\n",
       "    <tr>\n",
       "      <th>0</th>\n",
       "      <td>0.639947</td>\n",
       "      <td>0.848324</td>\n",
       "      <td>0.149641</td>\n",
       "      <td>0.907270</td>\n",
       "      <td>-0.692891</td>\n",
       "      <td>0.204013</td>\n",
       "      <td>0.468492</td>\n",
       "      <td>1.425995</td>\n",
       "    </tr>\n",
       "    <tr>\n",
       "      <th>1</th>\n",
       "      <td>-0.844885</td>\n",
       "      <td>-1.123396</td>\n",
       "      <td>-0.160546</td>\n",
       "      <td>0.530902</td>\n",
       "      <td>-0.692891</td>\n",
       "      <td>-0.684422</td>\n",
       "      <td>-0.365061</td>\n",
       "      <td>-0.190672</td>\n",
       "    </tr>\n",
       "    <tr>\n",
       "      <th>2</th>\n",
       "      <td>1.233880</td>\n",
       "      <td>1.943724</td>\n",
       "      <td>-0.263941</td>\n",
       "      <td>-1.288212</td>\n",
       "      <td>-0.692891</td>\n",
       "      <td>-1.103255</td>\n",
       "      <td>0.604397</td>\n",
       "      <td>-0.105584</td>\n",
       "    </tr>\n",
       "    <tr>\n",
       "      <th>3</th>\n",
       "      <td>-0.844885</td>\n",
       "      <td>-0.998208</td>\n",
       "      <td>-0.160546</td>\n",
       "      <td>0.154533</td>\n",
       "      <td>0.123302</td>\n",
       "      <td>-0.494043</td>\n",
       "      <td>-0.920763</td>\n",
       "      <td>-1.041549</td>\n",
       "    </tr>\n",
       "    <tr>\n",
       "      <th>4</th>\n",
       "      <td>-1.141852</td>\n",
       "      <td>0.504055</td>\n",
       "      <td>-1.504687</td>\n",
       "      <td>0.907270</td>\n",
       "      <td>0.765836</td>\n",
       "      <td>1.409746</td>\n",
       "      <td>5.484909</td>\n",
       "      <td>-0.020496</td>\n",
       "    </tr>\n",
       "    <tr>\n",
       "      <th>...</th>\n",
       "      <td>...</td>\n",
       "      <td>...</td>\n",
       "      <td>...</td>\n",
       "      <td>...</td>\n",
       "      <td>...</td>\n",
       "      <td>...</td>\n",
       "      <td>...</td>\n",
       "      <td>...</td>\n",
       "    </tr>\n",
       "    <tr>\n",
       "      <th>763</th>\n",
       "      <td>1.827813</td>\n",
       "      <td>-0.622642</td>\n",
       "      <td>0.356432</td>\n",
       "      <td>1.722735</td>\n",
       "      <td>0.870031</td>\n",
       "      <td>0.115169</td>\n",
       "      <td>-0.908682</td>\n",
       "      <td>2.532136</td>\n",
       "    </tr>\n",
       "    <tr>\n",
       "      <th>764</th>\n",
       "      <td>-0.547919</td>\n",
       "      <td>0.034598</td>\n",
       "      <td>0.046245</td>\n",
       "      <td>0.405445</td>\n",
       "      <td>-0.692891</td>\n",
       "      <td>0.610154</td>\n",
       "      <td>-0.398282</td>\n",
       "      <td>-0.531023</td>\n",
       "    </tr>\n",
       "    <tr>\n",
       "      <th>765</th>\n",
       "      <td>0.342981</td>\n",
       "      <td>0.003301</td>\n",
       "      <td>0.149641</td>\n",
       "      <td>0.154533</td>\n",
       "      <td>0.279594</td>\n",
       "      <td>-0.735190</td>\n",
       "      <td>-0.685193</td>\n",
       "      <td>-0.275760</td>\n",
       "    </tr>\n",
       "    <tr>\n",
       "      <th>766</th>\n",
       "      <td>-0.844885</td>\n",
       "      <td>0.159787</td>\n",
       "      <td>-0.470732</td>\n",
       "      <td>-1.288212</td>\n",
       "      <td>-0.692891</td>\n",
       "      <td>-0.240205</td>\n",
       "      <td>-0.371101</td>\n",
       "      <td>1.170732</td>\n",
       "    </tr>\n",
       "    <tr>\n",
       "      <th>767</th>\n",
       "      <td>-0.844885</td>\n",
       "      <td>-0.873019</td>\n",
       "      <td>0.046245</td>\n",
       "      <td>0.656358</td>\n",
       "      <td>-0.692891</td>\n",
       "      <td>-0.202129</td>\n",
       "      <td>-0.473785</td>\n",
       "      <td>-0.871374</td>\n",
       "    </tr>\n",
       "  </tbody>\n",
       "</table>\n",
       "<p>768 rows × 8 columns</p>\n",
       "</div>"
      ],
      "text/plain": [
       "     Pregnancies   Glucose  BloodPressure  SkinThickness   Insulin       BMI  DiabetesPedigreeFunction       Age\n",
       "0       0.639947  0.848324       0.149641       0.907270 -0.692891  0.204013                  0.468492  1.425995\n",
       "1      -0.844885 -1.123396      -0.160546       0.530902 -0.692891 -0.684422                 -0.365061 -0.190672\n",
       "2       1.233880  1.943724      -0.263941      -1.288212 -0.692891 -1.103255                  0.604397 -0.105584\n",
       "3      -0.844885 -0.998208      -0.160546       0.154533  0.123302 -0.494043                 -0.920763 -1.041549\n",
       "4      -1.141852  0.504055      -1.504687       0.907270  0.765836  1.409746                  5.484909 -0.020496\n",
       "..           ...       ...            ...            ...       ...       ...                       ...       ...\n",
       "763     1.827813 -0.622642       0.356432       1.722735  0.870031  0.115169                 -0.908682  2.532136\n",
       "764    -0.547919  0.034598       0.046245       0.405445 -0.692891  0.610154                 -0.398282 -0.531023\n",
       "765     0.342981  0.003301       0.149641       0.154533  0.279594 -0.735190                 -0.685193 -0.275760\n",
       "766    -0.844885  0.159787      -0.470732      -1.288212 -0.692891 -0.240205                 -0.371101  1.170732\n",
       "767    -0.844885 -0.873019       0.046245       0.656358 -0.692891 -0.202129                 -0.473785 -0.871374\n",
       "\n",
       "[768 rows x 8 columns]"
      ]
     },
     "execution_count": 22,
     "metadata": {},
     "output_type": "execute_result"
    }
   ],
   "source": [
    "# Bağımsız değişkenlerimiz:\n",
    "X"
   ]
  },
  {
   "cell_type": "code",
   "execution_count": 23,
   "id": "ce492238",
   "metadata": {},
   "outputs": [
    {
     "data": {
      "text/plain": [
       "array([[ 0.63994726,  0.84832379,  0.14964075, ...,  0.20401277,\n",
       "         0.46849198,  1.4259954 ],\n",
       "       [-0.84488505, -1.12339636, -0.16054575, ..., -0.68442195,\n",
       "        -0.36506078, -0.19067191],\n",
       "       [ 1.23388019,  1.94372388, -0.26394125, ..., -1.10325546,\n",
       "         0.60439732, -0.10558415],\n",
       "       ...,\n",
       "       [ 0.3429808 ,  0.00330087,  0.14964075, ..., -0.73518964,\n",
       "        -0.68519336, -0.27575966],\n",
       "       [-0.84488505,  0.1597866 , -0.47073225, ..., -0.24020459,\n",
       "        -0.37110101,  1.17073215],\n",
       "       [-0.84488505, -0.8730192 ,  0.04624525, ..., -0.20212881,\n",
       "        -0.47378505, -0.87137393]])"
      ]
     },
     "execution_count": 23,
     "metadata": {},
     "output_type": "execute_result"
    }
   ],
   "source": [
    "X_scaled\n",
    "# Bir numpy array'i dönüyor. Değişken değerleri standartlaştırılmış olsa da elimizdeki numpy array'İ istediğimiz bilgileri\n",
    "# taşımıyor. Mesela sütun isimleri yok dolayısıyla bu sütun isimlerini ekleme ihtiyacımız vardır. Bunu da \n",
    "# X = pd.DataFrame(X_scaled, columns=X.columns) şeklinde yapıyoruz."
   ]
  },
  {
   "cell_type": "code",
   "execution_count": 26,
   "id": "1f4e7655",
   "metadata": {},
   "outputs": [
    {
     "data": {
      "text/html": [
       "<div>\n",
       "<style scoped>\n",
       "    .dataframe tbody tr th:only-of-type {\n",
       "        vertical-align: middle;\n",
       "    }\n",
       "\n",
       "    .dataframe tbody tr th {\n",
       "        vertical-align: top;\n",
       "    }\n",
       "\n",
       "    .dataframe thead th {\n",
       "        text-align: right;\n",
       "    }\n",
       "</style>\n",
       "<table border=\"1\" class=\"dataframe\">\n",
       "  <thead>\n",
       "    <tr style=\"text-align: right;\">\n",
       "      <th></th>\n",
       "      <th>Pregnancies</th>\n",
       "      <th>Glucose</th>\n",
       "      <th>BloodPressure</th>\n",
       "      <th>SkinThickness</th>\n",
       "      <th>Insulin</th>\n",
       "      <th>BMI</th>\n",
       "      <th>DiabetesPedigreeFunction</th>\n",
       "      <th>Age</th>\n",
       "    </tr>\n",
       "  </thead>\n",
       "  <tbody>\n",
       "    <tr>\n",
       "      <th>0</th>\n",
       "      <td>0.639947</td>\n",
       "      <td>0.848324</td>\n",
       "      <td>0.149641</td>\n",
       "      <td>0.907270</td>\n",
       "      <td>-0.692891</td>\n",
       "      <td>0.204013</td>\n",
       "      <td>0.468492</td>\n",
       "      <td>1.425995</td>\n",
       "    </tr>\n",
       "    <tr>\n",
       "      <th>1</th>\n",
       "      <td>-0.844885</td>\n",
       "      <td>-1.123396</td>\n",
       "      <td>-0.160546</td>\n",
       "      <td>0.530902</td>\n",
       "      <td>-0.692891</td>\n",
       "      <td>-0.684422</td>\n",
       "      <td>-0.365061</td>\n",
       "      <td>-0.190672</td>\n",
       "    </tr>\n",
       "    <tr>\n",
       "      <th>2</th>\n",
       "      <td>1.233880</td>\n",
       "      <td>1.943724</td>\n",
       "      <td>-0.263941</td>\n",
       "      <td>-1.288212</td>\n",
       "      <td>-0.692891</td>\n",
       "      <td>-1.103255</td>\n",
       "      <td>0.604397</td>\n",
       "      <td>-0.105584</td>\n",
       "    </tr>\n",
       "    <tr>\n",
       "      <th>3</th>\n",
       "      <td>-0.844885</td>\n",
       "      <td>-0.998208</td>\n",
       "      <td>-0.160546</td>\n",
       "      <td>0.154533</td>\n",
       "      <td>0.123302</td>\n",
       "      <td>-0.494043</td>\n",
       "      <td>-0.920763</td>\n",
       "      <td>-1.041549</td>\n",
       "    </tr>\n",
       "    <tr>\n",
       "      <th>4</th>\n",
       "      <td>-1.141852</td>\n",
       "      <td>0.504055</td>\n",
       "      <td>-1.504687</td>\n",
       "      <td>0.907270</td>\n",
       "      <td>0.765836</td>\n",
       "      <td>1.409746</td>\n",
       "      <td>5.484909</td>\n",
       "      <td>-0.020496</td>\n",
       "    </tr>\n",
       "    <tr>\n",
       "      <th>...</th>\n",
       "      <td>...</td>\n",
       "      <td>...</td>\n",
       "      <td>...</td>\n",
       "      <td>...</td>\n",
       "      <td>...</td>\n",
       "      <td>...</td>\n",
       "      <td>...</td>\n",
       "      <td>...</td>\n",
       "    </tr>\n",
       "    <tr>\n",
       "      <th>763</th>\n",
       "      <td>1.827813</td>\n",
       "      <td>-0.622642</td>\n",
       "      <td>0.356432</td>\n",
       "      <td>1.722735</td>\n",
       "      <td>0.870031</td>\n",
       "      <td>0.115169</td>\n",
       "      <td>-0.908682</td>\n",
       "      <td>2.532136</td>\n",
       "    </tr>\n",
       "    <tr>\n",
       "      <th>764</th>\n",
       "      <td>-0.547919</td>\n",
       "      <td>0.034598</td>\n",
       "      <td>0.046245</td>\n",
       "      <td>0.405445</td>\n",
       "      <td>-0.692891</td>\n",
       "      <td>0.610154</td>\n",
       "      <td>-0.398282</td>\n",
       "      <td>-0.531023</td>\n",
       "    </tr>\n",
       "    <tr>\n",
       "      <th>765</th>\n",
       "      <td>0.342981</td>\n",
       "      <td>0.003301</td>\n",
       "      <td>0.149641</td>\n",
       "      <td>0.154533</td>\n",
       "      <td>0.279594</td>\n",
       "      <td>-0.735190</td>\n",
       "      <td>-0.685193</td>\n",
       "      <td>-0.275760</td>\n",
       "    </tr>\n",
       "    <tr>\n",
       "      <th>766</th>\n",
       "      <td>-0.844885</td>\n",
       "      <td>0.159787</td>\n",
       "      <td>-0.470732</td>\n",
       "      <td>-1.288212</td>\n",
       "      <td>-0.692891</td>\n",
       "      <td>-0.240205</td>\n",
       "      <td>-0.371101</td>\n",
       "      <td>1.170732</td>\n",
       "    </tr>\n",
       "    <tr>\n",
       "      <th>767</th>\n",
       "      <td>-0.844885</td>\n",
       "      <td>-0.873019</td>\n",
       "      <td>0.046245</td>\n",
       "      <td>0.656358</td>\n",
       "      <td>-0.692891</td>\n",
       "      <td>-0.202129</td>\n",
       "      <td>-0.473785</td>\n",
       "      <td>-0.871374</td>\n",
       "    </tr>\n",
       "  </tbody>\n",
       "</table>\n",
       "<p>768 rows × 8 columns</p>\n",
       "</div>"
      ],
      "text/plain": [
       "     Pregnancies   Glucose  BloodPressure  SkinThickness   Insulin       BMI  DiabetesPedigreeFunction       Age\n",
       "0       0.639947  0.848324       0.149641       0.907270 -0.692891  0.204013                  0.468492  1.425995\n",
       "1      -0.844885 -1.123396      -0.160546       0.530902 -0.692891 -0.684422                 -0.365061 -0.190672\n",
       "2       1.233880  1.943724      -0.263941      -1.288212 -0.692891 -1.103255                  0.604397 -0.105584\n",
       "3      -0.844885 -0.998208      -0.160546       0.154533  0.123302 -0.494043                 -0.920763 -1.041549\n",
       "4      -1.141852  0.504055      -1.504687       0.907270  0.765836  1.409746                  5.484909 -0.020496\n",
       "..           ...       ...            ...            ...       ...       ...                       ...       ...\n",
       "763     1.827813 -0.622642       0.356432       1.722735  0.870031  0.115169                 -0.908682  2.532136\n",
       "764    -0.547919  0.034598       0.046245       0.405445 -0.692891  0.610154                 -0.398282 -0.531023\n",
       "765     0.342981  0.003301       0.149641       0.154533  0.279594 -0.735190                 -0.685193 -0.275760\n",
       "766    -0.844885  0.159787      -0.470732      -1.288212 -0.692891 -0.240205                 -0.371101  1.170732\n",
       "767    -0.844885 -0.873019       0.046245       0.656358 -0.692891 -0.202129                 -0.473785 -0.871374\n",
       "\n",
       "[768 rows x 8 columns]"
      ]
     },
     "execution_count": 26,
     "metadata": {},
     "output_type": "execute_result"
    }
   ],
   "source": [
    "X"
   ]
  },
  {
   "cell_type": "markdown",
   "id": "8a34102f",
   "metadata": {},
   "source": [
    "### Modelleme"
   ]
  },
  {
   "cell_type": "code",
   "execution_count": 30,
   "id": "8c56a93f",
   "metadata": {},
   "outputs": [
    {
     "data": {
      "text/plain": [
       "array([1], dtype=int64)"
      ]
     },
     "execution_count": 30,
     "metadata": {},
     "output_type": "execute_result"
    }
   ],
   "source": [
    "################################################\n",
    "# 3. Modeling & Prediction\n",
    "################################################\n",
    "\n",
    "# Modeli kurduk:\n",
    "knn_model = KNeighborsClassifier().fit(X, y)\n",
    "\n",
    "# Diyelim ki tahmin yapmak istiyoruz, Rastgele 1 hasta seçiyoruz:\n",
    "random_user = X.sample(1, random_state=45)\n",
    "\n",
    "# predict metodu hangi özellikleri knn modeline sormamı istersin, ben aracıyım senin bana verdiğin özelliklere göre gidicem ona\n",
    "# elimde bu bu özellikler var söyle bakalım bu kişi diyabet mi değil mi diyeceğim der.\n",
    "knn_model.predict(random_user)"
   ]
  },
  {
   "cell_type": "markdown",
   "id": "a4cdf219",
   "metadata": {},
   "source": [
    "### Model Başarı Değerlendirme"
   ]
  },
  {
   "cell_type": "code",
   "execution_count": 33,
   "id": "e3cdf383",
   "metadata": {},
   "outputs": [
    {
     "data": {
      "text/plain": [
       "array([1, 0, 1, 0, 0, 0, 0, 0, 1, 0, 0, 1, 0, 1, 0, 0, 1, 1, 0, 0, 0, 0,\n",
       "       1, 1, 1, 1, 1, 0, 0, 0, 1, 1, 0, 0, 1, 0, 0, 0, 0, 1, 1, 1, 0, 1,\n",
       "       1, 1, 0, 0, 0, 0, 0, 0, 0, 1, 0, 0, 1, 0, 1, 0, 0, 1, 0, 0, 1, 0,\n",
       "       0, 1, 0, 1, 0, 1, 1, 0, 0, 0, 0, 0, 1, 0, 0, 0, 0, 0, 1, 0, 0, 0,\n",
       "       1, 0, 0, 0, 0, 0, 0, 0, 0, 0, 0, 1, 1, 0, 0, 0, 0, 0, 0, 0, 0, 0,\n",
       "       1, 1, 0, 0, 0, 1, 1, 0, 0, 0, 1, 0, 0, 0, 0, 0, 0, 0, 1, 0, 1, 1,\n",
       "       1, 0, 0, 0, 0, 0, 0, 0, 0, 0, 0, 1, 1, 0, 0, 0, 0, 0, 0, 0, 1, 0,\n",
       "       1, 1, 0, 0, 0, 1, 0, 0, 0, 0, 0, 0, 0, 0, 0, 0, 1, 0, 0, 0, 0, 1,\n",
       "       0, 1, 0, 0, 0, 0, 0, 0, 0, 1, 1, 1, 0, 0, 0, 0, 1, 1, 0, 1, 0, 0,\n",
       "       0, 1, 0, 0, 0, 0, 0, 0, 1, 1, 0, 1, 0, 0, 1, 0, 1, 1, 0, 0, 0, 1,\n",
       "       1, 1, 0, 0, 0, 0, 0, 0, 1, 0, 1, 1, 0, 0, 0, 1, 1, 1, 1, 0, 0, 0,\n",
       "       0, 0, 0, 1, 1, 0, 0, 0, 1, 0, 0, 0, 1, 0, 0, 0, 0, 1, 1, 1, 0, 0,\n",
       "       1, 1, 1, 0, 0, 1, 1, 0, 0, 0, 0, 0, 0, 0, 0, 0, 0, 1, 0, 1, 0, 1,\n",
       "       0, 0, 0, 0, 0, 0, 1, 0, 0, 0, 1, 0, 1, 0, 1, 0, 0, 1, 0, 0, 1, 0,\n",
       "       0, 1, 0, 0, 1, 0, 1, 0, 0, 1, 0, 0, 0, 0, 0, 1, 0, 0, 1, 1, 0, 0,\n",
       "       1, 0, 1, 0, 0, 0, 1, 1, 1, 1, 0, 0, 0, 0, 0, 0, 0, 0, 0, 0, 0, 0,\n",
       "       0, 0, 0, 1, 1, 1, 0, 1, 1, 0, 0, 1, 0, 0, 0, 0, 0, 1, 1, 0, 0, 0,\n",
       "       1, 1, 0, 0, 1, 0, 0, 0, 0, 0, 0, 0, 0, 0, 1, 0, 1, 1, 0, 0, 1, 0,\n",
       "       0, 0, 0, 1, 0, 1, 0, 0, 1, 0, 1, 0, 1, 0, 0, 0, 0, 0, 1, 1, 0, 1,\n",
       "       0, 0, 1, 0, 0, 0, 1, 1, 0, 1, 0, 1, 0, 0, 0, 0, 0, 1, 1, 0, 0, 0,\n",
       "       1, 0, 0, 1, 0, 1, 0, 0, 0, 0, 0, 0, 0, 0, 0, 1, 0, 0, 1, 0, 0, 0,\n",
       "       0, 0, 1, 0, 0, 0, 0, 1, 1, 0, 0, 1, 0, 0, 0, 0, 0, 0, 1, 0, 0, 0,\n",
       "       1, 0, 0, 1, 0, 0, 0, 0, 0, 1, 0, 0, 0, 0, 1, 1, 0, 0, 0, 0, 0, 0,\n",
       "       1, 0, 0, 0, 0, 0, 0, 0, 0, 1, 1, 0, 0, 0, 0, 0, 0, 1, 0, 0, 0, 0,\n",
       "       0, 0, 0, 0, 0, 0, 0, 1, 0, 0, 0, 1, 1, 0, 1, 0, 0, 1, 1, 0, 0, 1,\n",
       "       0, 0, 0, 0, 0, 0, 0, 0, 0, 0, 0, 1, 0, 0, 0, 0, 0, 0, 1, 0, 0, 0,\n",
       "       0, 0, 0, 0, 0, 0, 0, 1, 1, 0, 0, 1, 1, 0, 1, 0, 1, 0, 1, 0, 1, 0,\n",
       "       0, 1, 0, 0, 1, 0, 0, 0, 0, 1, 1, 0, 1, 0, 0, 0, 0, 1, 1, 0, 1, 0,\n",
       "       0, 0, 1, 1, 0, 0, 1, 0, 0, 0, 0, 1, 1, 0, 1, 0, 0, 0, 0, 0, 1, 0,\n",
       "       0, 0, 0, 0, 1, 0, 0, 1, 1, 1, 0, 0, 0, 0, 0, 0, 0, 0, 0, 1, 0, 0,\n",
       "       1, 1, 1, 1, 0, 0, 0, 1, 0, 1, 1, 0, 0, 1, 0, 1, 1, 0, 0, 0, 0, 1,\n",
       "       0, 0, 0, 0, 0, 0, 0, 1, 0, 1, 0, 0, 0, 1, 1, 0, 0, 1, 0, 1, 1, 1,\n",
       "       0, 0, 0, 0, 1, 0, 0, 1, 1, 0, 0, 1, 1, 0, 0, 0, 0, 0, 1, 0, 0, 0,\n",
       "       0, 0, 0, 0, 0, 1, 1, 0, 0, 0, 0, 0, 0, 1, 1, 0, 0, 1, 1, 0, 1, 0,\n",
       "       1, 1, 1, 0, 0, 1, 1, 1, 0, 1, 0, 0, 0, 1, 0, 0, 0, 0, 1, 0],\n",
       "      dtype=int64)"
      ]
     },
     "execution_count": 33,
     "metadata": {},
     "output_type": "execute_result"
    }
   ],
   "source": [
    "################################################\n",
    "# 4. Model Evaluation\n",
    "################################################\n",
    "\n",
    "# knn modelini kullanarak bütün gözlem birimleri için tahmin yapıp bunları bir yerde saklamamız lazım. y_pred diyerek bunları \n",
    "# saklayalım. Bunu confussion matrix'i hesaplamak için kullanacağız. Bunun üzerinden accucay ve f1 gibi metrikleri hesaplıyor\n",
    "# olacağız.\n",
    "# Confusion matrix için y_pred:\n",
    "y_pred = knn_model.predict(X)\n",
    "y_pred"
   ]
  },
  {
   "cell_type": "code",
   "execution_count": 34,
   "id": "23983021",
   "metadata": {},
   "outputs": [
    {
     "data": {
      "text/plain": [
       "array([0.8, 0. , 0.8, 0. , 0.4, 0.2, 0.2, 0.4, 0.6, 0.4, 0. , 0.6, 0.4,\n",
       "       1. , 0.4, 0.4, 0.8, 0.6, 0.2, 0.4, 0.4, 0. , 0.8, 0.6, 0.6, 0.6,\n",
       "       0.8, 0. , 0.4, 0.4, 0.6, 0.6, 0. , 0. , 0.8, 0.2, 0.4, 0.4, 0.2,\n",
       "       0.6, 0.8, 0.6, 0.2, 1. , 0.6, 0.8, 0.4, 0. , 0.2, 0.2, 0. , 0. ,\n",
       "       0. , 1. , 0.4, 0. , 0.8, 0. , 0.6, 0. , 0. , 0.8, 0. , 0.2, 1. ,\n",
       "       0. , 0.4, 0.8, 0. , 0.6, 0.2, 0.6, 0.6, 0. , 0. , 0. , 0. , 0.2,\n",
       "       0.8, 0. , 0. , 0. , 0.2, 0. , 0.6, 0.2, 0.2, 0. , 0.6, 0. , 0. ,\n",
       "       0.4, 0.2, 0.2, 0.2, 0. , 0. , 0. , 0. , 0.6, 0.8, 0.2, 0. , 0. ,\n",
       "       0.2, 0. , 0. , 0.4, 0.2, 0.2, 0.8, 0.6, 0. , 0.2, 0.2, 0.6, 0.6,\n",
       "       0. , 0. , 0. , 0.8, 0.2, 0. , 0.2, 0.2, 0.2, 0.2, 0.2, 0.8, 0.4,\n",
       "       0.8, 0.8, 0.8, 0.2, 0.2, 0.2, 0.2, 0. , 0.4, 0.2, 0.4, 0. , 0. ,\n",
       "       0.6, 0.6, 0. , 0.2, 0.4, 0.2, 0. , 0.2, 0. , 0.6, 0.4, 0.8, 0.8,\n",
       "       0.2, 0. , 0. , 0.8, 0.2, 0. , 0.2, 0. , 0.4, 0.2, 0. , 0.4, 0.4,\n",
       "       0. , 0.6, 0.4, 0.2, 0.2, 0. , 0.8, 0.4, 0.8, 0.4, 0.4, 0.2, 0.4,\n",
       "       0. , 0.2, 0.4, 1. , 1. , 1. , 0.2, 0.2, 0. , 0.2, 0.6, 0.6, 0.4,\n",
       "       0.6, 0. , 0.2, 0.4, 0.6, 0. , 0.4, 0. , 0. , 0. , 0.2, 0.8, 0.6,\n",
       "       0. , 0.8, 0. , 0.4, 0.6, 0.4, 0.6, 1. , 0.2, 0.4, 0.4, 1. , 0.6,\n",
       "       0.8, 0.4, 0.4, 0.2, 0.2, 0.2, 0.4, 0.8, 0.2, 0.8, 0.6, 0. , 0.4,\n",
       "       0. , 1. , 0.8, 0.8, 1. , 0. , 0. , 0. , 0.2, 0.4, 0.2, 0.8, 0.6,\n",
       "       0.4, 0.4, 0. , 0.6, 0. , 0. , 0. , 0.6, 0.4, 0.2, 0. , 0.4, 0.8,\n",
       "       0.8, 1. , 0. , 0.2, 0.6, 0.6, 0.8, 0.4, 0. , 0.8, 1. , 0. , 0.2,\n",
       "       0.2, 0.4, 0.2, 0.2, 0. , 0.2, 0. , 0.4, 0.6, 0.2, 0.8, 0.4, 0.6,\n",
       "       0.4, 0.4, 0. , 0.2, 0.2, 0.4, 0.8, 0.4, 0.2, 0.4, 0.6, 0. , 0.6,\n",
       "       0. , 0.8, 0.4, 0. , 0.6, 0. , 0. , 0.6, 0. , 0.2, 0.6, 0. , 0.2,\n",
       "       0.8, 0. , 0.8, 0. , 0. , 0.6, 0. , 0.4, 0.2, 0.2, 0.4, 0.8, 0.2,\n",
       "       0. , 0.6, 0.8, 0.2, 0. , 0.6, 0. , 0.8, 0.2, 0. , 0.4, 0.6, 0.8,\n",
       "       0.8, 1. , 0.2, 0. , 0.2, 0.2, 0. , 0.2, 0. , 0.2, 0. , 0.4, 0. ,\n",
       "       0.2, 0.2, 0. , 0.2, 0.8, 0.6, 0.8, 0.4, 1. , 1. , 0.2, 0.4, 0.6,\n",
       "       0.4, 0. , 0.4, 0. , 0. , 0.8, 0.6, 0. , 0. , 0. , 0.8, 1. , 0. ,\n",
       "       0.2, 0.6, 0.4, 0.2, 0. , 0. , 0. , 0.2, 0. , 0.4, 0.2, 0.8, 0.2,\n",
       "       0.8, 1. , 0.2, 0. , 0.6, 0.4, 0. , 0.2, 0. , 0.6, 0.4, 0.6, 0.2,\n",
       "       0.2, 0.6, 0.4, 0.8, 0. , 1. , 0.4, 0.2, 0. , 0.4, 0.2, 0.6, 0.6,\n",
       "       0. , 0.6, 0. , 0.2, 0.6, 0. , 0. , 0. , 0.8, 1. , 0. , 1. , 0. ,\n",
       "       0.6, 0. , 0. , 0. , 0. , 0.2, 0.8, 0.6, 0.4, 0. , 0.4, 0.6, 0. ,\n",
       "       0. , 0.6, 0.4, 1. , 0. , 0. , 0.4, 0. , 0. , 0.4, 0. , 0. , 0.2,\n",
       "       0.6, 0.2, 0. , 1. , 0.2, 0.2, 0. , 0.2, 0. , 0.6, 0. , 0. , 0.4,\n",
       "       0.4, 0.6, 0.6, 0.2, 0. , 0.6, 0. , 0.2, 0.2, 0. , 0.4, 0.4, 0.8,\n",
       "       0. , 0. , 0.2, 0.8, 0.2, 0.4, 0.6, 0. , 0.4, 0. , 0. , 0. , 0.6,\n",
       "       0. , 0.2, 0.2, 0. , 0.6, 0.6, 0. , 0. , 0.4, 0.2, 0. , 0. , 1. ,\n",
       "       0. , 0.2, 0. , 0.4, 0. , 0. , 0. , 0. , 0.8, 0.8, 0.2, 0.4, 0.4,\n",
       "       0. , 0.2, 0.2, 0.6, 0.2, 0. , 0. , 0. , 0.2, 0. , 0. , 0.2, 0.2,\n",
       "       0.2, 0.2, 0.8, 0.4, 0.2, 0. , 0.6, 0.6, 0.2, 0.6, 0.2, 0. , 1. ,\n",
       "       0.8, 0. , 0.2, 0.6, 0. , 0. , 0.2, 0. , 0. , 0. , 0.2, 0.2, 0.2,\n",
       "       0.4, 0.4, 1. , 0. , 0.4, 0.2, 0.2, 0. , 0. , 0.6, 0.4, 0.4, 0. ,\n",
       "       0. , 0. , 0.2, 0.2, 0.2, 0.4, 0.4, 0.8, 0.6, 0.2, 0. , 0.6, 0.8,\n",
       "       0. , 1. , 0.4, 0.8, 0. , 1. , 0. , 0.8, 0. , 0.4, 1. , 0.4, 0. ,\n",
       "       0.8, 0. , 0. , 0.2, 0.2, 0.6, 0.8, 0.4, 0.8, 0. , 0.2, 0. , 0. ,\n",
       "       1. , 0.8, 0.2, 0.8, 0. , 0.4, 0. , 0.6, 0.6, 0. , 0.2, 0.6, 0. ,\n",
       "       0. , 0. , 0. , 0.6, 0.8, 0. , 0.6, 0. , 0. , 0. , 0.2, 0.4, 0.8,\n",
       "       0. , 0.2, 0. , 0. , 0.2, 0.6, 0.2, 0. , 0.8, 0.8, 1. , 0.4, 0. ,\n",
       "       0. , 0.2, 0.2, 0.2, 0. , 0.4, 0. , 0.8, 0.4, 0.4, 0.8, 0.8, 1. ,\n",
       "       0.8, 0.4, 0. , 0.2, 0.8, 0.2, 0.6, 0.8, 0. , 0.2, 0.6, 0. , 0.8,\n",
       "       0.6, 0. , 0.2, 0. , 0. , 0.6, 0. , 0.2, 0.4, 0.2, 0.2, 0. , 0. ,\n",
       "       0.6, 0.4, 0.8, 0.4, 0.4, 0. , 0.8, 0.8, 0.2, 0.4, 0.6, 0.2, 0.6,\n",
       "       0.8, 0.8, 0. , 0.2, 0.2, 0.2, 0.8, 0.2, 0.2, 0.6, 0.6, 0. , 0.2,\n",
       "       0.8, 0.8, 0. , 0. , 0.2, 0. , 0. , 0.6, 0.2, 0.4, 0. , 0. , 0. ,\n",
       "       0.2, 0. , 0.4, 0.6, 0.6, 0. , 0.4, 0. , 0. , 0. , 0. , 0.8, 1. ,\n",
       "       0. , 0. , 0.6, 0.8, 0.4, 0.6, 0. , 0.8, 0.6, 0.8, 0. , 0. , 0.6,\n",
       "       0.6, 0.8, 0.4, 0.8, 0.2, 0.4, 0. , 1. , 0. , 0. , 0.2, 0.4, 1. ,\n",
       "       0. ])"
      ]
     },
     "execution_count": 34,
     "metadata": {},
     "output_type": "execute_result"
    }
   ],
   "source": [
    "# Bir de AUC'i hesaplamaya ihtiyacımız vardı. Bunu da olasık değerleri üzerinden yapabiliyorduk. ROC eğrisinin altında kalan \n",
    "# alanı ifade eden AUC'i hesaplamak istiyoruz. Bunu nasıl heaplıyorduk, ROC eğrisi üzerinden gidiyorduk, ROC eğrisini nasıl\n",
    "# hesaplıyorduk, classification_thresholdları değiştirerek yani örneğin 0.3, 0.5, 0.7 gibi farklı aralıklara giderek bu farklı\n",
    "# aralıklar üzerinden TP rate ve FP rate'lre göre ROC eğrisini oluşturuyorduk ve bu eğrinin altında kalan alanı AUC'i \n",
    "# hesaplıyorduk. Dolayısıyla bize bu şekilde tahmin edilen değerler (y_pred) değil de 1 sınıfına ait olma olasılıkları lazım\n",
    "# AUC'i ve ROC'u hesaplamak için.\n",
    "\n",
    "# AUC için y_prob:\n",
    "y_prob = knn_model.predict_proba(X)[:, 1]\n",
    "y_prob"
   ]
  },
  {
   "cell_type": "code",
   "execution_count": 35,
   "id": "f078f392",
   "metadata": {},
   "outputs": [
    {
     "name": "stdout",
     "output_type": "stream",
     "text": [
      "              precision    recall  f1-score   support\n",
      "\n",
      "           0       0.85      0.90      0.87       500\n",
      "           1       0.79      0.70      0.74       268\n",
      "\n",
      "    accuracy                           0.83       768\n",
      "   macro avg       0.82      0.80      0.81       768\n",
      "weighted avg       0.83      0.83      0.83       768\n",
      "\n"
     ]
    }
   ],
   "source": [
    "print(classification_report(y, y_pred))"
   ]
  },
  {
   "cell_type": "markdown",
   "id": "ad1414e6",
   "metadata": {},
   "source": [
    "* 1 sınıfı için precision değerini recall değerini f1 skorunu ve sınıf bilgilerini belirtmiş. Accuracy değerimiz 0.83'tür. Başrılı sınıflandırma oranı bire bir dediğimiz ve sıfıra sıfır dediğimiz durumlar bölü tüm durumlardı. Bu 100 kişiden 83'üne diabet ya da diabet değil dediğimizde bu doğru olmuş oluyor. %17'sinde tahminimiz bşarısız olmuş oluyor.\n",
    "\n",
    "* Accuracy her zaman doğru bilgi vermeyebilir eğer dengesiz veri varsa başka metriklere de bakmak gerekir demiştik. \n",
    "* Precision 1 olarak tahmin ettiklerimizin başarısıydı. Yani 1 sınıfına yönelik tahminlerimizin başarısını ifade ediyordu.\n",
    "* Recal gerçekte 1 olanları 1 olarak tahmin etme başarımızı ifade ediyordu.\n",
    "* F1 skoru ise presicion ve recall'un harmonik ortalamasıydı.\n",
    "\n",
    "* Çıkan değerlere baktığımda (harmonik ortalama 0.74) 0.70'in üzerindeyiz. Bu başarılı kabul edilebilir. Bu başarıyı arttırmamız da gerekiyor tabii ki. \n",
    "* macro avg = aritmetik ortalama\n",
    "* weighted avg = ağırlıklı ortalama"
   ]
  },
  {
   "cell_type": "code",
   "execution_count": 36,
   "id": "6d577de3",
   "metadata": {},
   "outputs": [
    {
     "data": {
      "text/plain": [
       "0.9017686567164179"
      ]
     },
     "execution_count": 36,
     "metadata": {},
     "output_type": "execute_result"
    }
   ],
   "source": [
    "# AUC\n",
    "roc_auc_score(y, y_prob)"
   ]
  },
  {
   "cell_type": "markdown",
   "id": "7b7644a1",
   "metadata": {},
   "source": [
    "* Tüm veri ile bir model kurduk ve kurmuş olduğumuz modelin başarısını yine modeli kurarken kullandığımız veri ile test ettik. Aslında olması gereken şey modeli görmediği veri ile test etmektir. Bunun için iki yol öğrenmiştik. Birincisi holdout yöntemi, ikincisi de cross-validation yöntemiydi. "
   ]
  },
  {
   "cell_type": "code",
   "execution_count": 38,
   "id": "178efce8",
   "metadata": {},
   "outputs": [
    {
     "data": {
      "text/plain": [
       "{'fit_time': array([0.00498652, 0.00199461, 0.00199413, 0.00299191, 0.00199533]),\n",
       " 'score_time': array([0.01396179, 0.01097107, 0.00997353, 0.00997353, 0.00997257]),\n",
       " 'test_accuracy': array([0.72077922, 0.73376623, 0.71428571, 0.77124183, 0.7254902 ]),\n",
       " 'test_f1': array([0.58252427, 0.60952381, 0.54166667, 0.63917526, 0.58      ]),\n",
       " 'test_roc_auc': array([0.77555556, 0.78759259, 0.73194444, 0.83226415, 0.77528302])}"
      ]
     },
     "execution_count": 38,
     "metadata": {},
     "output_type": "execute_result"
    }
   ],
   "source": [
    "# Cross Validation\n",
    "cv_results = cross_validate(knn_model, X, y, cv=5, scoring=[\"accuracy\", \"f1\", \"roc_auc\"])\n",
    "\n",
    "# cross_val_score isimli başka bir metod var. cross_validate metodunun cross_val_Score metodundan farkı birden fazla metriğe \n",
    "# göre de değerlendirme yapabiliyor olmasıdır. Yani veri setindeki başarımızı değerlendirdik ama bir doğrulama ihtiyacımız var \n",
    "# çünkü bütün veriyle modeli kurduk ve bütün veriyle test ettik. Şimdi çapraz doğrulama yöntemiyle doğrulama yapmak istiyoruz.\n",
    "# Hatamızın geçerliliğini incelemek istiyoruz. Bunun için tek bir metriğe değil birden fazla metriğe bakacağız.\n",
    "\n",
    "cv_results"
   ]
  },
  {
   "cell_type": "markdown",
   "id": "9bcd5339",
   "metadata": {},
   "source": [
    "* İçerisinde fit süreleri, prediction süreleri (score_time), test'in accuracysi, test'in f1 ve roc auc değerlerini içinde tutuyor. 5 katlı çapraz doğrulama yaptığımız için veriyi 5'e böldük. 4 tanesiyle modeli kurduk, 1 tanesiyle de test ettik. 4'lü ve 1'li setler kendi aralaerında tekrar tekrar değişerek model kurulup test edildi. Böylece roc auc değerleri ortaya çıktı. Dolayısıyla biz bunların ortalamasını aldığımızda 5 katlı çapraz doğrulamanın bütün test skorlarının ortalamasını almış olacağız. Bu işlemleri de hemen gerçekleştirelim:"
   ]
  },
  {
   "cell_type": "code",
   "execution_count": 39,
   "id": "c7db825d",
   "metadata": {},
   "outputs": [
    {
     "data": {
      "text/plain": [
       "0.733112638994992"
      ]
     },
     "execution_count": 39,
     "metadata": {},
     "output_type": "execute_result"
    }
   ],
   "source": [
    "cv_results['test_accuracy'].mean()\n",
    "\n",
    "# eski acc değerimiz 0.83'müş. 0.73'e düştü."
   ]
  },
  {
   "cell_type": "code",
   "execution_count": 40,
   "id": "5edc182d",
   "metadata": {},
   "outputs": [
    {
     "data": {
      "text/plain": [
       "0.5905780011534191"
      ]
     },
     "execution_count": 40,
     "metadata": {},
     "output_type": "execute_result"
    }
   ],
   "source": [
    "cv_results['test_f1'].mean()\n",
    "\n",
    "# Sonuç ilgi çekici çünkü başarılı gibi gözüküyorduk ancak ortalama 0.59 geldi."
   ]
  },
  {
   "cell_type": "code",
   "execution_count": 41,
   "id": "8df2c9e0",
   "metadata": {},
   "outputs": [
    {
     "data": {
      "text/plain": [
       "0.7805279524807827"
      ]
     },
     "execution_count": 41,
     "metadata": {},
     "output_type": "execute_result"
    }
   ],
   "source": [
    "cv_results['test_roc_auc'].mean()\n",
    "\n",
    "# %90'dan %78'e düşmüş."
   ]
  },
  {
   "cell_type": "markdown",
   "id": "f47c7320",
   "metadata": {},
   "source": [
    "* Modeli kurduğumuz veriyi modelin performansını değerlendirmek için kullandığımızda aslında ortaya bir miktar yanlılık çıktı. Bu yanlılık ne getirir ne götürür sonuçları doğru değerlendirmemizi engeller. Normalde burada dengesiz veri problemi var mı yok mu gibi soru işareti oluştuğunda f1 skorunu 0.74 olarak gördüğümüzde bu bizi bundan uzaklaştırabilir. Tamam çok ciddi olamsa da bir miktar dengesizlik var gibi acaba göz ardı edilmeli mi gibi bize bir yorum yaptırabilir.\n",
    "* Dolayısıyla veri setini cross validation yöntemi ile bölerek ayrı parçalarla model kurup diğer parçalarla test ettiğimizde bütün veriyle model kurmaya göre daha farklı bir sonuç aldık ve bu sonuçlar daha güvenilirdir. "
   ]
  },
  {
   "cell_type": "markdown",
   "id": "bf5ec111",
   "metadata": {},
   "source": [
    "##### DİKKAT : Bu Başarı Skorları Nasıl Arttırılabilir?\n",
    "\n",
    "* Bu başarı sonuçları birkaç şekilde arttırılabilir. \n",
    "* 1 - Veri boyutu arttırılabilir. Gözlem sayısını arttırmayı kastediyoruz. Örnek boyutu da diyebiliriz.\n",
    "* 2 - Veri ön işleme işlemleri detaylandırılabilir.\n",
    "* 3 - Özellik mühendisliği, yeni değişkenler türetilebilir.\n",
    "* 4 - İlgili algoritma için optimizasyonlar yapılabilir."
   ]
  },
  {
   "cell_type": "code",
   "execution_count": 42,
   "id": "cfb9418d",
   "metadata": {},
   "outputs": [
    {
     "data": {
      "text/plain": [
       "{'algorithm': 'auto',\n",
       " 'leaf_size': 30,\n",
       " 'metric': 'minkowski',\n",
       " 'metric_params': None,\n",
       " 'n_jobs': None,\n",
       " 'n_neighbors': 5,\n",
       " 'p': 2,\n",
       " 'weights': 'uniform'}"
      ]
     },
     "execution_count": 42,
     "metadata": {},
     "output_type": "execute_result"
    }
   ],
   "source": [
    "# knn yönteminin bir dışsal hiperparametresi vardır. Komşuluk sayısı hiperparametresidir. Bu komşuluk sayısı hiperparametresi \n",
    "# değiştirilebilirdir.\n",
    "\n",
    "knn_model.get_params()"
   ]
  },
  {
   "cell_type": "markdown",
   "id": "ebde8a41",
   "metadata": {},
   "source": [
    "* Parametre modellerin veri içinden öğrendiği ağırlıklardır. Ağırlıklar o parametrelerin tahmincileriydi. Yani özetle parametre dediğimiz şey veri içerisinden öğrenilmektedir.\n",
    "* Hiperparametre ise kullanıcı tarafından tanımlanması gereken, dışsal ve veri seti içerisinden öğrenilemeyen parametrelerdir. Bunalar hiperparametre denir. Fakat biz yine veriyi kullanarak kullanıcı olarak bir hiperparametre seti vereceğiz. Mesela 10, 20 tane komşuluk sayısı hiperparametresi vereceğiz. Bunları tek tek deneyeceğiz ve denemeler neticesinde hatamıza bakıp böylece normalde veriden öğrenilemeyen kullanıcı tarafından verilmesi gereken bu hiperparametreleri bir set olarak gönderip al bakalım 6'ya bak, 10'a bak, 20'ye bak, dene bunları ondan sonra en düşük hatayı veren hiperparametreyi ya da hiperparametre setini bize nihai olarak göster. Biz de ondan sonra final bir model kuralım. Bu hiperparametre değerinin ön tanımlı değerini değiştirelim, ona göre bir daha hatamıza bakalım diyerek algoritmanın hiperparametresini optimize ediyor olacağız."
   ]
  },
  {
   "cell_type": "code",
   "execution_count": null,
   "id": "7c5dd7c7",
   "metadata": {},
   "outputs": [],
   "source": []
  }
 ],
 "metadata": {
  "kernelspec": {
   "display_name": "Python 3 (ipykernel)",
   "language": "python",
   "name": "python3"
  },
  "language_info": {
   "codemirror_mode": {
    "name": "ipython",
    "version": 3
   },
   "file_extension": ".py",
   "mimetype": "text/x-python",
   "name": "python",
   "nbconvert_exporter": "python",
   "pygments_lexer": "ipython3",
   "version": "3.9.7"
  }
 },
 "nbformat": 4,
 "nbformat_minor": 5
}
