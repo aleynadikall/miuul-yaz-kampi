{
 "cells": [
  {
   "cell_type": "markdown",
   "id": "3c8bf702",
   "metadata": {},
   "source": [
    "### Sayısal Değişken Görselleştirme"
   ]
  },
  {
   "cell_type": "markdown",
   "id": "d0cf5dae",
   "metadata": {},
   "source": [
    "* Kategorik değişken dediğimizde artık bilmeliyiz ki sütun grafik kullanılır.\n",
    "* Sayısal değişken denildiğinde de iki tip grafik kullanılır:\n",
    "* 1 - Histogram\n",
    "* 2 - Boxplot "
   ]
  },
  {
   "cell_type": "code",
   "execution_count": 2,
   "id": "57118d99",
   "metadata": {},
   "outputs": [
    {
     "data": {
      "text/html": [
       "<div>\n",
       "<style scoped>\n",
       "    .dataframe tbody tr th:only-of-type {\n",
       "        vertical-align: middle;\n",
       "    }\n",
       "\n",
       "    .dataframe tbody tr th {\n",
       "        vertical-align: top;\n",
       "    }\n",
       "\n",
       "    .dataframe thead th {\n",
       "        text-align: right;\n",
       "    }\n",
       "</style>\n",
       "<table border=\"1\" class=\"dataframe\">\n",
       "  <thead>\n",
       "    <tr style=\"text-align: right;\">\n",
       "      <th></th>\n",
       "      <th>survived</th>\n",
       "      <th>pclass</th>\n",
       "      <th>sex</th>\n",
       "      <th>age</th>\n",
       "      <th>sibsp</th>\n",
       "      <th>parch</th>\n",
       "      <th>fare</th>\n",
       "      <th>embarked</th>\n",
       "      <th>class</th>\n",
       "      <th>who</th>\n",
       "      <th>adult_male</th>\n",
       "      <th>deck</th>\n",
       "      <th>embark_town</th>\n",
       "      <th>alive</th>\n",
       "      <th>alone</th>\n",
       "    </tr>\n",
       "  </thead>\n",
       "  <tbody>\n",
       "    <tr>\n",
       "      <th>0</th>\n",
       "      <td>0</td>\n",
       "      <td>3</td>\n",
       "      <td>male</td>\n",
       "      <td>22.0</td>\n",
       "      <td>1</td>\n",
       "      <td>0</td>\n",
       "      <td>7.2500</td>\n",
       "      <td>S</td>\n",
       "      <td>Third</td>\n",
       "      <td>man</td>\n",
       "      <td>True</td>\n",
       "      <td>NaN</td>\n",
       "      <td>Southampton</td>\n",
       "      <td>no</td>\n",
       "      <td>False</td>\n",
       "    </tr>\n",
       "    <tr>\n",
       "      <th>1</th>\n",
       "      <td>1</td>\n",
       "      <td>1</td>\n",
       "      <td>female</td>\n",
       "      <td>38.0</td>\n",
       "      <td>1</td>\n",
       "      <td>0</td>\n",
       "      <td>71.2833</td>\n",
       "      <td>C</td>\n",
       "      <td>First</td>\n",
       "      <td>woman</td>\n",
       "      <td>False</td>\n",
       "      <td>C</td>\n",
       "      <td>Cherbourg</td>\n",
       "      <td>yes</td>\n",
       "      <td>False</td>\n",
       "    </tr>\n",
       "    <tr>\n",
       "      <th>2</th>\n",
       "      <td>1</td>\n",
       "      <td>3</td>\n",
       "      <td>female</td>\n",
       "      <td>26.0</td>\n",
       "      <td>0</td>\n",
       "      <td>0</td>\n",
       "      <td>7.9250</td>\n",
       "      <td>S</td>\n",
       "      <td>Third</td>\n",
       "      <td>woman</td>\n",
       "      <td>False</td>\n",
       "      <td>NaN</td>\n",
       "      <td>Southampton</td>\n",
       "      <td>yes</td>\n",
       "      <td>True</td>\n",
       "    </tr>\n",
       "    <tr>\n",
       "      <th>3</th>\n",
       "      <td>1</td>\n",
       "      <td>1</td>\n",
       "      <td>female</td>\n",
       "      <td>35.0</td>\n",
       "      <td>1</td>\n",
       "      <td>0</td>\n",
       "      <td>53.1000</td>\n",
       "      <td>S</td>\n",
       "      <td>First</td>\n",
       "      <td>woman</td>\n",
       "      <td>False</td>\n",
       "      <td>C</td>\n",
       "      <td>Southampton</td>\n",
       "      <td>yes</td>\n",
       "      <td>False</td>\n",
       "    </tr>\n",
       "    <tr>\n",
       "      <th>4</th>\n",
       "      <td>0</td>\n",
       "      <td>3</td>\n",
       "      <td>male</td>\n",
       "      <td>35.0</td>\n",
       "      <td>0</td>\n",
       "      <td>0</td>\n",
       "      <td>8.0500</td>\n",
       "      <td>S</td>\n",
       "      <td>Third</td>\n",
       "      <td>man</td>\n",
       "      <td>True</td>\n",
       "      <td>NaN</td>\n",
       "      <td>Southampton</td>\n",
       "      <td>no</td>\n",
       "      <td>True</td>\n",
       "    </tr>\n",
       "  </tbody>\n",
       "</table>\n",
       "</div>"
      ],
      "text/plain": [
       "   survived  pclass     sex   age  sibsp  parch     fare embarked  class    who  adult_male deck  embark_town alive  alone\n",
       "0         0       3    male  22.0      1      0   7.2500        S  Third    man        True  NaN  Southampton    no  False\n",
       "1         1       1  female  38.0      1      0  71.2833        C  First  woman       False    C    Cherbourg   yes  False\n",
       "2         1       3  female  26.0      0      0   7.9250        S  Third  woman       False  NaN  Southampton   yes   True\n",
       "3         1       1  female  35.0      1      0  53.1000        S  First  woman       False    C  Southampton   yes  False\n",
       "4         0       3    male  35.0      0      0   8.0500        S  Third    man        True  NaN  Southampton    no   True"
      ]
     },
     "execution_count": 2,
     "metadata": {},
     "output_type": "execute_result"
    }
   ],
   "source": [
    "import pandas as pd\n",
    "import seaborn as sns\n",
    "import matplotlib.pyplot as plt\n",
    "pd.set_option('display.max_columns', None)\n",
    "pd.set_option('display.width', 500)\n",
    "df = sns.load_dataset('titanic')\n",
    "df.head()\n"
   ]
  },
  {
   "cell_type": "code",
   "execution_count": 7,
   "id": "ae305369",
   "metadata": {},
   "outputs": [
    {
     "data": {
      "image/png": "[encoded data removed]",
      "text/plain": [
       "<Figure size 432x288 with 1 Axes>"
      ]
     },
     "metadata": {
      "needs_background": "light"
     },
     "output_type": "display_data"
    }
   ],
   "source": [
    "plt.hist(df[\"age\"])\n",
    "plt.show()\n"
   ]
  },
  {
   "cell_type": "markdown",
   "id": "41586289",
   "metadata": {},
   "source": [
    "* Histogram grafiği bize sayısal değişkenlerin dağılımını verir.\n",
    "* Bu şu anlama gelir: Örneğin 10 ile 0 yaş arasında, 10 ile 20 yaş arasında kaç kişi var şeklinde bize elimizdeki sayısal değişkenin belli aralıklara göre dağılım bilgisini verir.\n"
   ]
  },
  {
   "cell_type": "code",
   "execution_count": 8,
   "id": "e5288e1f",
   "metadata": {},
   "outputs": [
    {
     "data": {
      "image/png": "[encoded data removed]",
      "text/plain": [
       "<Figure size 432x288 with 1 Axes>"
      ]
     },
     "metadata": {
      "needs_background": "light"
     },
     "output_type": "display_data"
    }
   ],
   "source": [
    "# Bir diğer sayısal değişken görselleştirme tekniğini ele alalım:\n",
    "plt.boxplot(df[\"fare\"])\n",
    "plt.show()\n"
   ]
  },
  {
   "cell_type": "markdown",
   "id": "253ab227",
   "metadata": {},
   "source": [
    "* Kutu grafiğin bir özelliği veri setindeki aykırı değerleri çeyreklik değerler üzerinden yakalayabiliyor/gösteriyorbiliyor olmasıdır.\n",
    "* Bu konu bir veri ön işleme konusudur fakat çok kısaca ifade etmek gerekirse verinin kendi içindeki dağılımını göz önünde bulundurarak genel dağılımın dışındaki gözlemleri yakalamaktadır.\n",
    "* Bunları aşağıdaki gibi işaretlemektedir."
   ]
  },
  {
   "cell_type": "markdown",
   "id": "83e8ef80",
   "metadata": {},
   "source": [
    "* DİKKAT: Bu grafikler gibi birçok veri görselleştirme tekniği vardır ancak bu iki grafik istatistiksel iki garfiktir. Yani bir veriyi tanımaya çalışırken asıl amacımız deişkenlerin dağılım yapılarını gözlemleyebilmektir. Bu sebeple histogram ve kutu grafik bize hem sayısal değişkenin hangi aralıklarında hangi frekanslarda gözlemler var bunu gösterir hem de veri setinin içindeki bu değişkenin kendi içindeki dağılım bilgisini ve bu dağılıma göre ne kadar aykırı değer olabileceği bilgisini gösterir. Bu sebeple kullanılabilecek diğer otuz farklı görsel yerine kutu grafik ve histogram işlerimizi görecektir ve bir değişkeni anlamak için kullanılması gereken grafik türleridir."
   ]
  },
  {
   "cell_type": "code",
   "execution_count": null,
   "id": "0160aa6d",
   "metadata": {},
   "outputs": [],
   "source": []
  }
 ],
 "metadata": {
  "kernelspec": {
   "display_name": "Python 3 (ipykernel)",
   "language": "python",
   "name": "python3"
  },
  "language_info": {
   "codemirror_mode": {
    "name": "ipython",
    "version": 3
   },
   "file_extension": ".py",
   "mimetype": "text/x-python",
   "name": "python",
   "nbconvert_exporter": "python",
   "pygments_lexer": "ipython3",
   "version": "3.9.7"
  }
 },
 "nbformat": 4,
 "nbformat_minor": 5
}
