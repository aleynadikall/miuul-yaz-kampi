{
 "cells": [
  {
   "cell_type": "markdown",
   "id": "cba16815",
   "metadata": {},
   "source": [
    "### Eksik Değerlerin Bağımlı Değişken ile Analizi\n",
    "\n",
    "##### Eksik Değerlerin Bağımlı Değişken ile İlişkisinin İncelenmesi\n",
    "* AMAÇ: Bir veri setimiz var, bu veri setinde çeşitli değişkenler var, bu değişkenlerde eksiklikler var işte bu eksikliklerin acaba bağımlı değişken tarafında bir karşılığı var mı, acaba bu özel bir yapı mıdır, acaba bağımlı değişkenle ilişkisi olan bazı değişkenleri gözden mi kaçıracağız eğer bunlara özel bir şekilde bakmazsak gibi soruların birlikte yanıtını değerlendiriyor olacağız... "
   ]
  },
  {
   "cell_type": "code",
   "execution_count": 1,
   "id": "57e4d948",
   "metadata": {},
   "outputs": [],
   "source": [
    "import pandas as pd\n",
    "import seaborn as sns\n",
    "import numpy as np\n",
    "import missingno as msno\n",
    "from matplotlib import pyplot as plt"
   ]
  },
  {
   "cell_type": "code",
   "execution_count": 2,
   "id": "b8518dbc",
   "metadata": {},
   "outputs": [
    {
     "data": {
      "text/html": [
       "<div>\n",
       "<style scoped>\n",
       "    .dataframe tbody tr th:only-of-type {\n",
       "        vertical-align: middle;\n",
       "    }\n",
       "\n",
       "    .dataframe tbody tr th {\n",
       "        vertical-align: top;\n",
       "    }\n",
       "\n",
       "    .dataframe thead th {\n",
       "        text-align: right;\n",
       "    }\n",
       "</style>\n",
       "<table border=\"1\" class=\"dataframe\">\n",
       "  <thead>\n",
       "    <tr style=\"text-align: right;\">\n",
       "      <th></th>\n",
       "      <th>PassengerId</th>\n",
       "      <th>Survived</th>\n",
       "      <th>Pclass</th>\n",
       "      <th>Name</th>\n",
       "      <th>Sex</th>\n",
       "      <th>Age</th>\n",
       "      <th>SibSp</th>\n",
       "      <th>Parch</th>\n",
       "      <th>Ticket</th>\n",
       "      <th>Fare</th>\n",
       "      <th>Cabin</th>\n",
       "      <th>Embarked</th>\n",
       "    </tr>\n",
       "  </thead>\n",
       "  <tbody>\n",
       "    <tr>\n",
       "      <th>0</th>\n",
       "      <td>1</td>\n",
       "      <td>0</td>\n",
       "      <td>3</td>\n",
       "      <td>Braund, Mr. Owen Harris</td>\n",
       "      <td>male</td>\n",
       "      <td>22.0</td>\n",
       "      <td>1</td>\n",
       "      <td>0</td>\n",
       "      <td>A/5 21171</td>\n",
       "      <td>7.2500</td>\n",
       "      <td>NaN</td>\n",
       "      <td>S</td>\n",
       "    </tr>\n",
       "    <tr>\n",
       "      <th>1</th>\n",
       "      <td>2</td>\n",
       "      <td>1</td>\n",
       "      <td>1</td>\n",
       "      <td>Cumings, Mrs. John Bradley (Florence Briggs Th...</td>\n",
       "      <td>female</td>\n",
       "      <td>38.0</td>\n",
       "      <td>1</td>\n",
       "      <td>0</td>\n",
       "      <td>PC 17599</td>\n",
       "      <td>71.2833</td>\n",
       "      <td>C85</td>\n",
       "      <td>C</td>\n",
       "    </tr>\n",
       "    <tr>\n",
       "      <th>2</th>\n",
       "      <td>3</td>\n",
       "      <td>1</td>\n",
       "      <td>3</td>\n",
       "      <td>Heikkinen, Miss. Laina</td>\n",
       "      <td>female</td>\n",
       "      <td>26.0</td>\n",
       "      <td>0</td>\n",
       "      <td>0</td>\n",
       "      <td>STON/O2. 3101282</td>\n",
       "      <td>7.9250</td>\n",
       "      <td>NaN</td>\n",
       "      <td>S</td>\n",
       "    </tr>\n",
       "    <tr>\n",
       "      <th>3</th>\n",
       "      <td>4</td>\n",
       "      <td>1</td>\n",
       "      <td>1</td>\n",
       "      <td>Futrelle, Mrs. Jacques Heath (Lily May Peel)</td>\n",
       "      <td>female</td>\n",
       "      <td>35.0</td>\n",
       "      <td>1</td>\n",
       "      <td>0</td>\n",
       "      <td>113803</td>\n",
       "      <td>53.1000</td>\n",
       "      <td>C123</td>\n",
       "      <td>S</td>\n",
       "    </tr>\n",
       "    <tr>\n",
       "      <th>4</th>\n",
       "      <td>5</td>\n",
       "      <td>0</td>\n",
       "      <td>3</td>\n",
       "      <td>Allen, Mr. William Henry</td>\n",
       "      <td>male</td>\n",
       "      <td>35.0</td>\n",
       "      <td>0</td>\n",
       "      <td>0</td>\n",
       "      <td>373450</td>\n",
       "      <td>8.0500</td>\n",
       "      <td>NaN</td>\n",
       "      <td>S</td>\n",
       "    </tr>\n",
       "  </tbody>\n",
       "</table>\n",
       "</div>"
      ],
      "text/plain": [
       "   PassengerId  Survived  Pclass  \\\n",
       "0            1         0       3   \n",
       "1            2         1       1   \n",
       "2            3         1       3   \n",
       "3            4         1       1   \n",
       "4            5         0       3   \n",
       "\n",
       "                                                Name     Sex   Age  SibSp  \\\n",
       "0                            Braund, Mr. Owen Harris    male  22.0      1   \n",
       "1  Cumings, Mrs. John Bradley (Florence Briggs Th...  female  38.0      1   \n",
       "2                             Heikkinen, Miss. Laina  female  26.0      0   \n",
       "3       Futrelle, Mrs. Jacques Heath (Lily May Peel)  female  35.0      1   \n",
       "4                           Allen, Mr. William Henry    male  35.0      0   \n",
       "\n",
       "   Parch            Ticket     Fare Cabin Embarked  \n",
       "0      0         A/5 21171   7.2500   NaN        S  \n",
       "1      0          PC 17599  71.2833   C85        C  \n",
       "2      0  STON/O2. 3101282   7.9250   NaN        S  \n",
       "3      0            113803  53.1000  C123        S  \n",
       "4      0            373450   8.0500   NaN        S  "
      ]
     },
     "execution_count": 2,
     "metadata": {},
     "output_type": "execute_result"
    }
   ],
   "source": [
    "def load():\n",
    "    data = pd.read_csv(\"titanic.csv\")\n",
    "    return data\n",
    "\n",
    "df = load()\n",
    "df.head()"
   ]
  },
  {
   "cell_type": "code",
   "execution_count": 4,
   "id": "ca55073a",
   "metadata": {},
   "outputs": [],
   "source": [
    "def missing_values_table(dataframe, na_name=False):\n",
    "    \n",
    "    # Sadece eksikliğe sahip kolonların (değişkenlerin) seçilmesi:\n",
    "    na_columns = [col for col in dataframe.columns if dataframe[col].isnull().sum() > 0]\n",
    "\n",
    "    # Eksik değer sayısı:\n",
    "    n_miss = dataframe[na_columns].isnull().sum().sort_values(ascending=False)\n",
    "    \n",
    "    # Eksik değer oranı:\n",
    "    ratio = (dataframe[na_columns].isnull().sum() / dataframe.shape[0] * 100).sort_values(ascending=False)\n",
    "    \n",
    "    # bunları bir dataframe'e çevirme:\n",
    "    missing_df = pd.concat([n_miss, np.round(ratio, 2)], axis=1, keys=['n_miss', 'ratio'])\n",
    "    print(missing_df, end=\"\\n\")\n",
    "\n",
    "    if na_name:\n",
    "        return na_columns"
   ]
  },
  {
   "cell_type": "code",
   "execution_count": 5,
   "id": "d3d05c72",
   "metadata": {},
   "outputs": [
    {
     "name": "stdout",
     "output_type": "stream",
     "text": [
      "          n_miss  ratio\n",
      "Cabin        687  77.10\n",
      "Age          177  19.87\n",
      "Embarked       2   0.22\n"
     ]
    },
    {
     "data": {
      "text/plain": [
       "['Age', 'Cabin', 'Embarked']"
      ]
     },
     "execution_count": 5,
     "metadata": {},
     "output_type": "execute_result"
    }
   ],
   "source": [
    "# Eksik değere sahip olan değişkenleri çekelim....\n",
    "missing_values_table(df, True)"
   ]
  },
  {
   "cell_type": "code",
   "execution_count": 6,
   "id": "a28276a6",
   "metadata": {},
   "outputs": [
    {
     "name": "stdout",
     "output_type": "stream",
     "text": [
      "          n_miss  ratio\n",
      "Cabin        687  77.10\n",
      "Age          177  19.87\n",
      "Embarked       2   0.22\n"
     ]
    }
   ],
   "source": [
    "# na_cols'a kaydediyoruz...\n",
    "na_cols = missing_values_table(df, True)"
   ]
  },
  {
   "cell_type": "code",
   "execution_count": 7,
   "id": "aff7cbda",
   "metadata": {},
   "outputs": [
    {
     "data": {
      "text/plain": [
       "['Age', 'Cabin', 'Embarked']"
      ]
     },
     "execution_count": 7,
     "metadata": {},
     "output_type": "execute_result"
    }
   ],
   "source": [
    "na_cols"
   ]
  },
  {
   "cell_type": "code",
   "execution_count": 8,
   "id": "4ae79521",
   "metadata": {},
   "outputs": [],
   "source": [
    "def missing_vs_target(dataframe, target, na_columns):\n",
    "    \n",
    "    # dataframe'in kopyası oluşturuldu, isteğe bağlıdır...\n",
    "    temp_df = dataframe.copy()\n",
    "\n",
    "    # bu NA'lerin içerisinde gez dedik:\n",
    "    for col in na_columns:\n",
    "        # HAYAT KURTARAN SERİSİ: NA'e sahip olan değişkenlerde gez yanına '_NA_FLAG' şeklinde string bir ekleme yap...\n",
    "        temp_df[col + '_NA_FLAG'] = np.where(temp_df[col].isnull(), 1, 0)\n",
    "    \n",
    "    # Bütün satırları seç fakat içerisinde NA ifadesi olan sütunları getir diyoruz. Bunu list comprehension ile de yapabilirdik.\n",
    "    na_flags = temp_df.loc[:, temp_df.columns.str.contains(\"_NA_\")].columns\n",
    "\n",
    "    # na_flags değişkenlerinde gezip bazı işemler yapıyoruz...\n",
    "    for col in na_flags:\n",
    "        print(pd.DataFrame({\"TARGET_MEAN\": temp_df.groupby(col)[target].mean(),\n",
    "                            \"Count\": temp_df.groupby(col)[target].count()}), end=\"\\n\\n\\n\")"
   ]
  },
  {
   "cell_type": "code",
   "execution_count": 9,
   "id": "e4c4a680",
   "metadata": {},
   "outputs": [
    {
     "name": "stdout",
     "output_type": "stream",
     "text": [
      "             TARGET_MEAN  Count\n",
      "Age_NA_FLAG                    \n",
      "0               0.406162    714\n",
      "1               0.293785    177\n",
      "\n",
      "\n",
      "               TARGET_MEAN  Count\n",
      "Cabin_NA_FLAG                    \n",
      "0                 0.666667    204\n",
      "1                 0.299854    687\n",
      "\n",
      "\n",
      "                  TARGET_MEAN  Count\n",
      "Embarked_NA_FLAG                    \n",
      "0                    0.382452    889\n",
      "1                    1.000000      2\n",
      "\n",
      "\n"
     ]
    }
   ],
   "source": [
    "# Survived değişkeni ile eksikliğe sahip olan bu değişkenleri bir karşılaştır diyoruz...\n",
    "missing_vs_target(df, \"Survived\", na_cols)"
   ]
  },
  {
   "cell_type": "markdown",
   "id": "e8dcf6b6",
   "metadata": {},
   "source": [
    "\n",
    "* Evet üç tane değişkenin bağımlı değişken olan Survived değişkeninin ortalaması açısından değerlendirmeleri geldi... Eksik değere sahip olan noktalara 1 yazdık, doluu olan noktalara 0 yaptık... Şimdi eksik değere sahip olan gözlemlere odaklanıp \"Survived\" ın ortalamasını aldığımızda 0.29, tam 177 tane eksiklik varmış, yani bu 177 tane eksikliğe sahip olan satır varya bu satırlardaki \"Survived\" yani hayatta kalma 1, hayatta kalamama 0 durumunu ifade eden değişkendeki bu değişkenin ortalaması 0.29'dur. Yani yaş değişkeninde eksiklik olması senaryosunun hayatta kalma oranı 0.29, yaş değişkeninde dolu olan senaryonun hayatta kalma oranı 0.40. Görüldüğü gibi arada birr fark var gibi gözüküyor. Bundan bir kuşkulandır. İyi de neysen kuşkulandık diye sorulacak olursa: Burada ki ana amacımız bu survived yani hayatta kalma kalmama durumunu tanımlamaya çalışmak. Yani bir modelleme aşamasına geçildiğinde amacımız şu olacak: İnsanların bu gemiye bindiğinde hayatta kalma ya da hayatta kalamama durumlarını ortaya çıkaran şey nedir sorusuna yanıt vermeye çalışacağız ve bazı insanların bilgileri verildiğinde hayatta kalıp kalamayacaklarını tahmin ediyor olacağız. Dolayısıyla ana odağımız survived'a göre survived hayatta kalma durumunu ne etkiliyor, ne ortaya çıkarıyor bunu yakalamaya çalışmaktır. Dolayısıyla buradan hareketle bir gözlemlediğimizde yaş değişkeninde eksiklik olan senaryonun hayatta kalması daha düşüktür. Ama buradan bir sonuca gitmek zor. Şimdilik bunu göz ardı ediyoruz. Peki başka bir değişkene bakalım... cabin_NA_FLAG değişkeninin %75'inden fazlası eksikti. Bu değişken çöp gibi düşünüp bu değişkeni atabilirdik ama DİKKAT cabin değişkeninde NA olanlar yani diyelim ki Mehmet Bey gemiye bindi ama kabin numarası yok veya Mehmet Bey gemiye bindi demeyelim şöyle diyelim gemide bir Mehmet Bey var bu Mehmet Bey'in cabin numarası yok. Bunun gibi cabin numarası olmayan birçok kişi var. NA dediğimiz cabin'de eksiklik olanlar. cabin değişkeninde eksiklik olanların \"Survived\" hayatta kalma oranları 0.30, cabin değişkeninde eksiklik olmayanların hayatta kalma oranların %66. Buraya ciddi bir odaklanmak gerekir. Bunun sebebi ne acaba? O gemide çalışan  kişilerin cabin kuru yani gemi görevlilerinin birçoğunun kabinlerinin numarası yokmuş çünkü kabinlerde kalmıyorlar. Kabin numaraları olanlar daha çok belki de tamamına yakını yolcular dolayısıyla öyle bir durum ortaya çıkıyor ki normalde veri bize bunu söylemek istiyor aslında ama biraz çekimser belki kalındığından biraz daha az yaratıcı bakıldığında verinin bize söylemek istediği şey gözden kaçabiliyor. Eğer bu cabin değişkenini dışarıda bıraksaydık bu önemli noktayı kaçırmış olacaktık. İş bilgisi biliniyor olsaydı da bu bilgi biliniyor olacaktı burada güzel başka bir derste var... Yani aslında bu NA ifadelerinin birçoğu gemi çalışanlarına aitmiş. cabin'i NA olanların hepsi gemi çalışanı değil buna dikkat edelim. Biz bu cabin değişkenini silmek yerine bu değişkeni oluştururuz. feature extraction bölümünde bunu bir değişkene  çeviriyor olacağız. Diğer örneğe bakalım... embarked değişkenindeki NA leri de flagledik. NA olanlara 1 olmayanlara 0 dedik.  Zaten 2 tane varmış. Buradaki countları atmamızın sebebi bu. Eksik değer sayısına göre bir değerlendirme imkanı da bulalım istiyoruz. Burada 700 tane var burada 170 tane var yaklaşık, tamamdır bu dikkate değerdir diyoruz. Bu dikkate değer ise bunun survived açısından ortalaması nedir diye baktığımızda bu da yine kayda değer gibi ama diyip analizlerimize devam ettik.  Bilmiyoruz gerçekten yaşta NA olup olmamasıyla hayatta kalıp kalınmaması arasında bir ilişki var mı bilmiyoruz. Ama burada bu  ikisi arasındaki oran çok yüksek olduğu için ve frekanslarda kayda değer olduğundan dolayı sanki bir ilişki varmış gibi  geliyor. Ancak bilemiyoruz şu anda. "
   ]
  },
  {
   "cell_type": "code",
   "execution_count": null,
   "id": "bed305fe",
   "metadata": {},
   "outputs": [],
   "source": []
  }
 ],
 "metadata": {
  "kernelspec": {
   "display_name": "Python 3 (ipykernel)",
   "language": "python",
   "name": "python3"
  },
  "language_info": {
   "codemirror_mode": {
    "name": "ipython",
    "version": 3
   },
   "file_extension": ".py",
   "mimetype": "text/x-python",
   "name": "python",
   "nbconvert_exporter": "python",
   "pygments_lexer": "ipython3",
   "version": "3.9.7"
  }
 },
 "nbformat": 4,
 "nbformat_minor": 5
}
